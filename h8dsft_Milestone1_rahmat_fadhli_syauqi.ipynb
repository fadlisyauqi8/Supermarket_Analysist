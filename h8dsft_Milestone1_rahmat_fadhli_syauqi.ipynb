{
 "cells": [
  {
   "cell_type": "markdown",
   "metadata": {},
   "source": [
    "## MILESTONE 1\n",
    "\n",
    "Name : Rahmat Fadhli Syauqi\n",
    "\n",
    "Batch : 11"
   ]
  },
  {
   "cell_type": "markdown",
   "metadata": {},
   "source": [
    "**Description:**\n",
    "These are data that shows information of sales history in a supermarket."
   ]
  },
  {
   "cell_type": "markdown",
   "metadata": {},
   "source": [
    "## Assignment Objectives\n",
    "\n",
    "*Milestones 1* ini dibuat guna mengevaluasi Pembelajaran Phase 0 sebagai berikut:\n",
    "\n",
    "- Mampu melakukan hypothesis testing terhadap dataset yang diberikan.\n",
    "- Mampu membuat dashboard interaktif terhadap dataset yang diberikan.\n",
    "- Mampu mempresentasikan hasil visualisasi data dan temuan."
   ]
  },
  {
   "cell_type": "markdown",
   "metadata": {},
   "source": [
    "**Problem :**\n",
    "1. Kota, Jenis pembayaran, & cabang tersibuk antara 3 kota?\n",
    "2. Mengetahui jenis pembayaran paling favorit saat pembelajaan?\n",
    "3. Produk paling favorit yang disukai berdasarkan kota & gender konsumen?\n",
    "4. Mengetahui kota mana yang memiliki penjualan tertinggi?\n",
    "5. Cara apa untuk meningkatkan sales?"
   ]
  },
  {
   "cell_type": "markdown",
   "metadata": {},
   "source": [
    "## Import Library"
   ]
  },
  {
   "cell_type": "code",
   "execution_count": 38,
   "metadata": {},
   "outputs": [
    {
     "name": "stdout",
     "output_type": "stream",
     "text": [
      "Requirement already satisfied: plotly==5.7.0 in c:\\users\\thesevens\\anaconda3\\lib\\site-packages (5.7.0)\n",
      "Requirement already satisfied: tenacity>=6.2.0 in c:\\users\\thesevens\\anaconda3\\lib\\site-packages (from plotly==5.7.0) (8.0.1)\n",
      "Requirement already satisfied: six in c:\\users\\thesevens\\anaconda3\\lib\\site-packages (from plotly==5.7.0) (1.16.0)\n"
     ]
    }
   ],
   "source": [
    "!pip install plotly==5.7.0"
   ]
  },
  {
   "cell_type": "code",
   "execution_count": 39,
   "metadata": {},
   "outputs": [],
   "source": [
    "#Library EDA\n",
    "import pandas as pd\n",
    "import numpy as np\n",
    "from scipy import stats\n",
    "\n",
    "#Library Visualization\n",
    "import matplotlib.pyplot as plt\n",
    "import plotly.express as px\n",
    "import seaborn as sns\n",
    "import plotly.graph_objects as go\n",
    "%matplotlib inline\n",
    "plt.style.use('ggplot')"
   ]
  },
  {
   "cell_type": "markdown",
   "metadata": {},
   "source": [
    "## Data loading \n",
    "\n",
    "\n"
   ]
  },
  {
   "cell_type": "code",
   "execution_count": 40,
   "metadata": {},
   "outputs": [
    {
     "data": {
      "text/html": [
       "<div>\n",
       "<style scoped>\n",
       "    .dataframe tbody tr th:only-of-type {\n",
       "        vertical-align: middle;\n",
       "    }\n",
       "\n",
       "    .dataframe tbody tr th {\n",
       "        vertical-align: top;\n",
       "    }\n",
       "\n",
       "    .dataframe thead th {\n",
       "        text-align: right;\n",
       "    }\n",
       "</style>\n",
       "<table border=\"1\" class=\"dataframe\">\n",
       "  <thead>\n",
       "    <tr style=\"text-align: right;\">\n",
       "      <th></th>\n",
       "      <th>Invoice ID</th>\n",
       "      <th>Branch</th>\n",
       "      <th>City</th>\n",
       "      <th>Customer type</th>\n",
       "      <th>Gender</th>\n",
       "      <th>Product line</th>\n",
       "      <th>Unit price</th>\n",
       "      <th>Quantity</th>\n",
       "      <th>Tax 5%</th>\n",
       "      <th>Total</th>\n",
       "      <th>Date</th>\n",
       "      <th>Time</th>\n",
       "      <th>Payment</th>\n",
       "      <th>cogs</th>\n",
       "      <th>gross margin percentage</th>\n",
       "      <th>gross income</th>\n",
       "      <th>Rating</th>\n",
       "    </tr>\n",
       "  </thead>\n",
       "  <tbody>\n",
       "    <tr>\n",
       "      <th>0</th>\n",
       "      <td>750-67-8428</td>\n",
       "      <td>A</td>\n",
       "      <td>Yangon</td>\n",
       "      <td>Member</td>\n",
       "      <td>Female</td>\n",
       "      <td>Health and beauty</td>\n",
       "      <td>74.69</td>\n",
       "      <td>7</td>\n",
       "      <td>26.1415</td>\n",
       "      <td>548.9715</td>\n",
       "      <td>1/5/2019</td>\n",
       "      <td>13:08</td>\n",
       "      <td>Ewallet</td>\n",
       "      <td>522.83</td>\n",
       "      <td>4.761905</td>\n",
       "      <td>26.1415</td>\n",
       "      <td>9.1</td>\n",
       "    </tr>\n",
       "    <tr>\n",
       "      <th>1</th>\n",
       "      <td>226-31-3081</td>\n",
       "      <td>C</td>\n",
       "      <td>Naypyitaw</td>\n",
       "      <td>Normal</td>\n",
       "      <td>Female</td>\n",
       "      <td>Electronic accessories</td>\n",
       "      <td>15.28</td>\n",
       "      <td>5</td>\n",
       "      <td>3.8200</td>\n",
       "      <td>80.2200</td>\n",
       "      <td>3/8/2019</td>\n",
       "      <td>10:29</td>\n",
       "      <td>Cash</td>\n",
       "      <td>76.40</td>\n",
       "      <td>4.761905</td>\n",
       "      <td>3.8200</td>\n",
       "      <td>9.6</td>\n",
       "    </tr>\n",
       "    <tr>\n",
       "      <th>2</th>\n",
       "      <td>631-41-3108</td>\n",
       "      <td>A</td>\n",
       "      <td>Yangon</td>\n",
       "      <td>Normal</td>\n",
       "      <td>Male</td>\n",
       "      <td>Home and lifestyle</td>\n",
       "      <td>46.33</td>\n",
       "      <td>7</td>\n",
       "      <td>16.2155</td>\n",
       "      <td>340.5255</td>\n",
       "      <td>3/3/2019</td>\n",
       "      <td>13:23</td>\n",
       "      <td>Credit card</td>\n",
       "      <td>324.31</td>\n",
       "      <td>4.761905</td>\n",
       "      <td>16.2155</td>\n",
       "      <td>7.4</td>\n",
       "    </tr>\n",
       "    <tr>\n",
       "      <th>3</th>\n",
       "      <td>123-19-1176</td>\n",
       "      <td>A</td>\n",
       "      <td>Yangon</td>\n",
       "      <td>Member</td>\n",
       "      <td>Male</td>\n",
       "      <td>Health and beauty</td>\n",
       "      <td>58.22</td>\n",
       "      <td>8</td>\n",
       "      <td>23.2880</td>\n",
       "      <td>489.0480</td>\n",
       "      <td>1/27/2019</td>\n",
       "      <td>20:33</td>\n",
       "      <td>Ewallet</td>\n",
       "      <td>465.76</td>\n",
       "      <td>4.761905</td>\n",
       "      <td>23.2880</td>\n",
       "      <td>8.4</td>\n",
       "    </tr>\n",
       "    <tr>\n",
       "      <th>4</th>\n",
       "      <td>373-73-7910</td>\n",
       "      <td>A</td>\n",
       "      <td>Yangon</td>\n",
       "      <td>Normal</td>\n",
       "      <td>Male</td>\n",
       "      <td>Sports and travel</td>\n",
       "      <td>86.31</td>\n",
       "      <td>7</td>\n",
       "      <td>30.2085</td>\n",
       "      <td>634.3785</td>\n",
       "      <td>2/8/2019</td>\n",
       "      <td>10:37</td>\n",
       "      <td>Ewallet</td>\n",
       "      <td>604.17</td>\n",
       "      <td>4.761905</td>\n",
       "      <td>30.2085</td>\n",
       "      <td>5.3</td>\n",
       "    </tr>\n",
       "  </tbody>\n",
       "</table>\n",
       "</div>"
      ],
      "text/plain": [
       "    Invoice ID Branch       City Customer type  Gender  \\\n",
       "0  750-67-8428      A     Yangon        Member  Female   \n",
       "1  226-31-3081      C  Naypyitaw        Normal  Female   \n",
       "2  631-41-3108      A     Yangon        Normal    Male   \n",
       "3  123-19-1176      A     Yangon        Member    Male   \n",
       "4  373-73-7910      A     Yangon        Normal    Male   \n",
       "\n",
       "             Product line  Unit price  Quantity   Tax 5%     Total       Date  \\\n",
       "0       Health and beauty       74.69         7  26.1415  548.9715   1/5/2019   \n",
       "1  Electronic accessories       15.28         5   3.8200   80.2200   3/8/2019   \n",
       "2      Home and lifestyle       46.33         7  16.2155  340.5255   3/3/2019   \n",
       "3       Health and beauty       58.22         8  23.2880  489.0480  1/27/2019   \n",
       "4       Sports and travel       86.31         7  30.2085  634.3785   2/8/2019   \n",
       "\n",
       "    Time      Payment    cogs  gross margin percentage  gross income  Rating  \n",
       "0  13:08      Ewallet  522.83                 4.761905       26.1415     9.1  \n",
       "1  10:29         Cash   76.40                 4.761905        3.8200     9.6  \n",
       "2  13:23  Credit card  324.31                 4.761905       16.2155     7.4  \n",
       "3  20:33      Ewallet  465.76                 4.761905       23.2880     8.4  \n",
       "4  10:37      Ewallet  604.17                 4.761905       30.2085     5.3  "
      ]
     },
     "execution_count": 40,
     "metadata": {},
     "output_type": "execute_result"
    }
   ],
   "source": [
    "#Import Dataset\n",
    "df = pd.read_csv('supermarket_sales - Sheet1.csv')\n",
    "df.head(5)"
   ]
  },
  {
   "cell_type": "code",
   "execution_count": 41,
   "metadata": {},
   "outputs": [
    {
     "name": "stdout",
     "output_type": "stream",
     "text": [
      "<class 'pandas.core.frame.DataFrame'>\n",
      "RangeIndex: 1000 entries, 0 to 999\n",
      "Data columns (total 17 columns):\n",
      " #   Column                   Non-Null Count  Dtype  \n",
      "---  ------                   --------------  -----  \n",
      " 0   Invoice ID               1000 non-null   object \n",
      " 1   Branch                   1000 non-null   object \n",
      " 2   City                     1000 non-null   object \n",
      " 3   Customer type            1000 non-null   object \n",
      " 4   Gender                   1000 non-null   object \n",
      " 5   Product line             1000 non-null   object \n",
      " 6   Unit price               1000 non-null   float64\n",
      " 7   Quantity                 1000 non-null   int64  \n",
      " 8   Tax 5%                   1000 non-null   float64\n",
      " 9   Total                    1000 non-null   float64\n",
      " 10  Date                     1000 non-null   object \n",
      " 11  Time                     1000 non-null   object \n",
      " 12  Payment                  1000 non-null   object \n",
      " 13  cogs                     1000 non-null   float64\n",
      " 14  gross margin percentage  1000 non-null   float64\n",
      " 15  gross income             1000 non-null   float64\n",
      " 16  Rating                   1000 non-null   float64\n",
      "dtypes: float64(7), int64(1), object(9)\n",
      "memory usage: 132.9+ KB\n"
     ]
    }
   ],
   "source": [
    "#Dataset info\n",
    "df.info()"
   ]
  },
  {
   "cell_type": "markdown",
   "metadata": {},
   "source": [
    "Dari dataframe information mengandung 1000 baris dan 17 kolom.\n",
    "\n",
    "I think the datatype for each column is already in accordance with the column explanation above."
   ]
  },
  {
   "cell_type": "code",
   "execution_count": 42,
   "metadata": {},
   "outputs": [
    {
     "name": "stdout",
     "output_type": "stream",
     "text": [
      "Invoice ID                 0\n",
      "Branch                     0\n",
      "City                       0\n",
      "Customer type              0\n",
      "Gender                     0\n",
      "Product line               0\n",
      "Unit price                 0\n",
      "Quantity                   0\n",
      "Tax 5%                     0\n",
      "Total                      0\n",
      "Date                       0\n",
      "Time                       0\n",
      "Payment                    0\n",
      "cogs                       0\n",
      "gross margin percentage    0\n",
      "gross income               0\n",
      "Rating                     0\n",
      "dtype: int64\n"
     ]
    }
   ],
   "source": [
    "# Null value check for each column\n",
    "print(df.isnull().sum())"
   ]
  },
  {
   "cell_type": "markdown",
   "metadata": {},
   "source": [
    "Tidak adanya missing value pada dataset ini.\n",
    "\n",
    "Selanjutnya saya akan melakukan manipulasi penamaan kolom pada dataset, untuk mempermudah penulisan."
   ]
  },
  {
   "cell_type": "code",
   "execution_count": 43,
   "metadata": {},
   "outputs": [],
   "source": [
    "#Mengubah penamaan value dataset\n",
    "df = df.rename(columns={ 'Customer type' : 'cust_type','Unit price' : 'unit_price', \n",
    "'Tax 5%' : 'tax_5%', 'Branch':'branch',\n",
    "'gross income' : 'gross_income', 'Rating' : 'rating', 'Total' : 'total', 'Date':'date', 'Time':'time',\n",
    "'Gender' :'gender', 'Product line' : 'product_line', 'Payment' :'payment', 'Quantity' : 'quantity'\n",
    "})"
   ]
  },
  {
   "cell_type": "code",
   "execution_count": 44,
   "metadata": {},
   "outputs": [],
   "source": [
    "#Converting type date\n",
    "df['date']= pd.to_datetime(df['date'])\n",
    "df[\"date2\"] = df[\"date\"].dt.strftime(\"%d-%m-%Y\")"
   ]
  },
  {
   "cell_type": "code",
   "execution_count": 45,
   "metadata": {},
   "outputs": [],
   "source": [
    "#Merubah penulisan waktu\n",
    "df['time'] = df['time'].str.split(':', expand=True).get(0).astype('int64')"
   ]
  },
  {
   "cell_type": "code",
   "execution_count": 46,
   "metadata": {},
   "outputs": [
    {
     "data": {
      "text/html": [
       "<div>\n",
       "<style scoped>\n",
       "    .dataframe tbody tr th:only-of-type {\n",
       "        vertical-align: middle;\n",
       "    }\n",
       "\n",
       "    .dataframe tbody tr th {\n",
       "        vertical-align: top;\n",
       "    }\n",
       "\n",
       "    .dataframe thead th {\n",
       "        text-align: right;\n",
       "    }\n",
       "</style>\n",
       "<table border=\"1\" class=\"dataframe\">\n",
       "  <thead>\n",
       "    <tr style=\"text-align: right;\">\n",
       "      <th></th>\n",
       "      <th>Invoice ID</th>\n",
       "      <th>branch</th>\n",
       "      <th>City</th>\n",
       "      <th>cust_type</th>\n",
       "      <th>gender</th>\n",
       "      <th>product_line</th>\n",
       "      <th>unit_price</th>\n",
       "      <th>quantity</th>\n",
       "      <th>tax_5%</th>\n",
       "      <th>total</th>\n",
       "      <th>date</th>\n",
       "      <th>time</th>\n",
       "      <th>payment</th>\n",
       "      <th>cogs</th>\n",
       "      <th>gross margin percentage</th>\n",
       "      <th>gross_income</th>\n",
       "      <th>rating</th>\n",
       "      <th>date2</th>\n",
       "    </tr>\n",
       "  </thead>\n",
       "  <tbody>\n",
       "    <tr>\n",
       "      <th>0</th>\n",
       "      <td>750-67-8428</td>\n",
       "      <td>A</td>\n",
       "      <td>Yangon</td>\n",
       "      <td>Member</td>\n",
       "      <td>Female</td>\n",
       "      <td>Health and beauty</td>\n",
       "      <td>74.69</td>\n",
       "      <td>7</td>\n",
       "      <td>26.1415</td>\n",
       "      <td>548.9715</td>\n",
       "      <td>2019-01-05</td>\n",
       "      <td>13</td>\n",
       "      <td>Ewallet</td>\n",
       "      <td>522.83</td>\n",
       "      <td>4.761905</td>\n",
       "      <td>26.1415</td>\n",
       "      <td>9.1</td>\n",
       "      <td>05-01-2019</td>\n",
       "    </tr>\n",
       "    <tr>\n",
       "      <th>1</th>\n",
       "      <td>226-31-3081</td>\n",
       "      <td>C</td>\n",
       "      <td>Naypyitaw</td>\n",
       "      <td>Normal</td>\n",
       "      <td>Female</td>\n",
       "      <td>Electronic accessories</td>\n",
       "      <td>15.28</td>\n",
       "      <td>5</td>\n",
       "      <td>3.8200</td>\n",
       "      <td>80.2200</td>\n",
       "      <td>2019-03-08</td>\n",
       "      <td>10</td>\n",
       "      <td>Cash</td>\n",
       "      <td>76.40</td>\n",
       "      <td>4.761905</td>\n",
       "      <td>3.8200</td>\n",
       "      <td>9.6</td>\n",
       "      <td>08-03-2019</td>\n",
       "    </tr>\n",
       "    <tr>\n",
       "      <th>2</th>\n",
       "      <td>631-41-3108</td>\n",
       "      <td>A</td>\n",
       "      <td>Yangon</td>\n",
       "      <td>Normal</td>\n",
       "      <td>Male</td>\n",
       "      <td>Home and lifestyle</td>\n",
       "      <td>46.33</td>\n",
       "      <td>7</td>\n",
       "      <td>16.2155</td>\n",
       "      <td>340.5255</td>\n",
       "      <td>2019-03-03</td>\n",
       "      <td>13</td>\n",
       "      <td>Credit card</td>\n",
       "      <td>324.31</td>\n",
       "      <td>4.761905</td>\n",
       "      <td>16.2155</td>\n",
       "      <td>7.4</td>\n",
       "      <td>03-03-2019</td>\n",
       "    </tr>\n",
       "    <tr>\n",
       "      <th>3</th>\n",
       "      <td>123-19-1176</td>\n",
       "      <td>A</td>\n",
       "      <td>Yangon</td>\n",
       "      <td>Member</td>\n",
       "      <td>Male</td>\n",
       "      <td>Health and beauty</td>\n",
       "      <td>58.22</td>\n",
       "      <td>8</td>\n",
       "      <td>23.2880</td>\n",
       "      <td>489.0480</td>\n",
       "      <td>2019-01-27</td>\n",
       "      <td>20</td>\n",
       "      <td>Ewallet</td>\n",
       "      <td>465.76</td>\n",
       "      <td>4.761905</td>\n",
       "      <td>23.2880</td>\n",
       "      <td>8.4</td>\n",
       "      <td>27-01-2019</td>\n",
       "    </tr>\n",
       "    <tr>\n",
       "      <th>4</th>\n",
       "      <td>373-73-7910</td>\n",
       "      <td>A</td>\n",
       "      <td>Yangon</td>\n",
       "      <td>Normal</td>\n",
       "      <td>Male</td>\n",
       "      <td>Sports and travel</td>\n",
       "      <td>86.31</td>\n",
       "      <td>7</td>\n",
       "      <td>30.2085</td>\n",
       "      <td>634.3785</td>\n",
       "      <td>2019-02-08</td>\n",
       "      <td>10</td>\n",
       "      <td>Ewallet</td>\n",
       "      <td>604.17</td>\n",
       "      <td>4.761905</td>\n",
       "      <td>30.2085</td>\n",
       "      <td>5.3</td>\n",
       "      <td>08-02-2019</td>\n",
       "    </tr>\n",
       "  </tbody>\n",
       "</table>\n",
       "</div>"
      ],
      "text/plain": [
       "    Invoice ID branch       City cust_type  gender            product_line  \\\n",
       "0  750-67-8428      A     Yangon    Member  Female       Health and beauty   \n",
       "1  226-31-3081      C  Naypyitaw    Normal  Female  Electronic accessories   \n",
       "2  631-41-3108      A     Yangon    Normal    Male      Home and lifestyle   \n",
       "3  123-19-1176      A     Yangon    Member    Male       Health and beauty   \n",
       "4  373-73-7910      A     Yangon    Normal    Male       Sports and travel   \n",
       "\n",
       "   unit_price  quantity   tax_5%     total       date  time      payment  \\\n",
       "0       74.69         7  26.1415  548.9715 2019-01-05    13      Ewallet   \n",
       "1       15.28         5   3.8200   80.2200 2019-03-08    10         Cash   \n",
       "2       46.33         7  16.2155  340.5255 2019-03-03    13  Credit card   \n",
       "3       58.22         8  23.2880  489.0480 2019-01-27    20      Ewallet   \n",
       "4       86.31         7  30.2085  634.3785 2019-02-08    10      Ewallet   \n",
       "\n",
       "     cogs  gross margin percentage  gross_income  rating       date2  \n",
       "0  522.83                 4.761905       26.1415     9.1  05-01-2019  \n",
       "1   76.40                 4.761905        3.8200     9.6  08-03-2019  \n",
       "2  324.31                 4.761905       16.2155     7.4  03-03-2019  \n",
       "3  465.76                 4.761905       23.2880     8.4  27-01-2019  \n",
       "4  604.17                 4.761905       30.2085     5.3  08-02-2019  "
      ]
     },
     "execution_count": 46,
     "metadata": {},
     "output_type": "execute_result"
    }
   ],
   "source": [
    "#Menampilkan dataset yang sudah diubah \n",
    "df.head(5)"
   ]
  },
  {
   "cell_type": "markdown",
   "metadata": {},
   "source": [
    "Selanjutnya saya akan melakukan exporting data yang sudah dilakukan cleaning untuk mempermudah dalam pembuatan streamlit."
   ]
  },
  {
   "cell_type": "code",
   "execution_count": 47,
   "metadata": {},
   "outputs": [],
   "source": [
    "df.to_csv('cleanData.csv')"
   ]
  },
  {
   "cell_type": "markdown",
   "metadata": {},
   "source": [
    "## Data Exploration\n",
    "\n",
    "Pada bagian ini akan dilakukan proses eksplorasi data secara mendalam, kita akan menggali potensi dan mencari yang menarik dari dataset ini."
   ]
  },
  {
   "cell_type": "code",
   "execution_count": 48,
   "metadata": {},
   "outputs": [
    {
     "data": {
      "text/plain": [
       "array(['Yangon', 'Naypyitaw', 'Mandalay'], dtype=object)"
      ]
     },
     "execution_count": 48,
     "metadata": {},
     "output_type": "execute_result"
    }
   ],
   "source": [
    "# Menampilkan value dari kolom tertentu\n",
    "\n",
    "df['City'].unique()"
   ]
  },
  {
   "cell_type": "markdown",
   "metadata": {},
   "source": [
    "Terdapat 3 kota pada bagian kolom 'City'"
   ]
  },
  {
   "cell_type": "code",
   "execution_count": 49,
   "metadata": {},
   "outputs": [
    {
     "data": {
      "text/plain": [
       "array(['Health and beauty', 'Electronic accessories',\n",
       "       'Home and lifestyle', 'Sports and travel', 'Food and beverages',\n",
       "       'Fashion accessories'], dtype=object)"
      ]
     },
     "execution_count": 49,
     "metadata": {},
     "output_type": "execute_result"
    }
   ],
   "source": [
    "# Menampilkan value dari kolom tertentu\n",
    "\n",
    "df['product_line'].unique()"
   ]
  },
  {
   "cell_type": "markdown",
   "metadata": {},
   "source": [
    "Pada kolom jenis product, terdapat 6 jenis product yang dijual."
   ]
  },
  {
   "cell_type": "code",
   "execution_count": 50,
   "metadata": {},
   "outputs": [
    {
     "data": {
      "text/plain": [
       "array(['Ewallet', 'Cash', 'Credit card'], dtype=object)"
      ]
     },
     "execution_count": 50,
     "metadata": {},
     "output_type": "execute_result"
    }
   ],
   "source": [
    "# Menampilkan value dari kolom tertentu\n",
    "\n",
    "df['payment'].unique()"
   ]
  },
  {
   "cell_type": "markdown",
   "metadata": {},
   "source": [
    "Terdapat 3 jenis metode pembayaran pada supermarket ini"
   ]
  },
  {
   "cell_type": "code",
   "execution_count": 51,
   "metadata": {},
   "outputs": [
    {
     "data": {
      "text/html": [
       "<div>\n",
       "<style scoped>\n",
       "    .dataframe tbody tr th:only-of-type {\n",
       "        vertical-align: middle;\n",
       "    }\n",
       "\n",
       "    .dataframe tbody tr th {\n",
       "        vertical-align: top;\n",
       "    }\n",
       "\n",
       "    .dataframe thead th {\n",
       "        text-align: right;\n",
       "    }\n",
       "</style>\n",
       "<table border=\"1\" class=\"dataframe\">\n",
       "  <thead>\n",
       "    <tr style=\"text-align: right;\">\n",
       "      <th></th>\n",
       "      <th>count</th>\n",
       "      <th>mean</th>\n",
       "      <th>std</th>\n",
       "      <th>min</th>\n",
       "      <th>25%</th>\n",
       "      <th>50%</th>\n",
       "      <th>75%</th>\n",
       "      <th>max</th>\n",
       "    </tr>\n",
       "  </thead>\n",
       "  <tbody>\n",
       "    <tr>\n",
       "      <th>unit_price</th>\n",
       "      <td>1000.0</td>\n",
       "      <td>55.67213</td>\n",
       "      <td>26.494628</td>\n",
       "      <td>10.08</td>\n",
       "      <td>32.875</td>\n",
       "      <td>55.23</td>\n",
       "      <td>77.935</td>\n",
       "      <td>99.96</td>\n",
       "    </tr>\n",
       "  </tbody>\n",
       "</table>\n",
       "</div>"
      ],
      "text/plain": [
       "             count      mean        std    min     25%    50%     75%    max\n",
       "unit_price  1000.0  55.67213  26.494628  10.08  32.875  55.23  77.935  99.96"
      ]
     },
     "execution_count": 51,
     "metadata": {},
     "output_type": "execute_result"
    }
   ],
   "source": [
    "df[['unit_price']].describe().T"
   ]
  },
  {
   "cell_type": "markdown",
   "metadata": {},
   "source": [
    "Diatas merupakan statistika deksriptif dari kolom harga barang.\n",
    "\n",
    "Sebelum lebih jauh, kita akan mencari tau berapa lama setiap kota/cabang dalam melakukan penjualan."
   ]
  },
  {
   "cell_type": "markdown",
   "metadata": {},
   "source": [
    "**Kota mana yang memiliki kesibukan dalam penjualan?**"
   ]
  },
  {
   "cell_type": "code",
   "execution_count": 52,
   "metadata": {},
   "outputs": [
    {
     "data": {
      "application/vnd.plotly.v1+json": {
       "config": {
        "plotlyServerURL": "https://plot.ly"
       },
       "data": [
        {
         "alignmentgroup": "True",
         "bingroup": "x",
         "histfunc": "sum",
         "hovertemplate": "City=Mandalay<br>time=%{x}<br>sum of quantity=%{y}<extra></extra>",
         "legendgroup": "Mandalay",
         "marker": {
          "color": "#636efa",
          "pattern": {
           "shape": ""
          }
         },
         "name": "Mandalay",
         "offsetgroup": "Mandalay",
         "orientation": "v",
         "showlegend": true,
         "type": "histogram",
         "x": [
          11,
          17,
          18,
          12,
          11,
          19,
          19,
          18,
          12,
          11,
          13,
          20,
          14,
          18,
          18,
          15,
          10,
          20,
          20,
          19,
          19,
          16,
          16,
          10,
          10,
          13,
          16,
          17,
          20,
          10,
          12,
          14,
          13,
          15,
          17,
          19,
          15,
          12,
          17,
          16,
          12,
          13,
          14,
          13,
          11,
          20,
          20,
          10,
          13,
          13,
          18,
          12,
          19,
          18,
          13,
          15,
          13,
          19,
          13,
          13,
          13,
          19,
          12,
          14,
          11,
          15,
          11,
          15,
          16,
          19,
          14,
          11,
          10,
          11,
          15,
          19,
          11,
          12,
          19,
          18,
          10,
          13,
          20,
          19,
          11,
          17,
          18,
          10,
          13,
          19,
          16,
          10,
          16,
          15,
          12,
          20,
          19,
          10,
          14,
          13,
          16,
          19,
          19,
          13,
          15,
          10,
          11,
          14,
          16,
          13,
          10,
          13,
          19,
          20,
          11,
          11,
          14,
          11,
          14,
          16,
          17,
          18,
          19,
          11,
          20,
          14,
          20,
          17,
          19,
          12,
          10,
          18,
          14,
          19,
          17,
          13,
          17,
          13,
          17,
          19,
          20,
          18,
          11,
          14,
          13,
          11,
          11,
          20,
          14,
          20,
          11,
          20,
          19,
          18,
          13,
          15,
          19,
          10,
          14,
          16,
          15,
          18,
          10,
          11,
          14,
          13,
          19,
          14,
          10,
          17,
          12,
          16,
          14,
          13,
          15,
          19,
          17,
          16,
          18,
          19,
          19,
          12,
          10,
          14,
          18,
          16,
          11,
          16,
          15,
          12,
          20,
          20,
          19,
          13,
          15,
          12,
          10,
          11,
          20,
          11,
          19,
          19,
          10,
          13,
          19,
          12,
          11,
          18,
          18,
          18,
          18,
          14,
          19,
          12,
          13,
          15,
          11,
          19,
          10,
          15,
          14,
          10,
          20,
          19,
          16,
          13,
          20,
          12,
          14,
          15,
          17,
          13,
          17,
          10,
          18,
          11,
          14,
          13,
          18,
          11,
          15,
          20,
          13,
          15,
          15,
          20,
          11,
          15,
          14,
          10,
          15,
          13,
          14,
          12,
          14,
          18,
          13,
          12,
          18,
          17,
          17,
          19,
          15,
          19,
          19,
          18,
          19,
          19,
          18,
          11,
          12,
          18,
          20,
          11,
          12,
          19,
          18,
          14,
          17,
          15,
          13,
          18,
          20,
          19,
          14,
          13,
          19,
          20,
          14,
          15,
          17,
          15,
          10,
          19,
          17,
          10,
          19,
          19,
          12,
          19,
          19,
          15,
          15,
          17,
          20,
          18,
          11,
          18,
          13,
          10,
          13,
          18,
          15,
          18,
          12,
          12,
          19,
          18,
          12,
          11,
          14,
          15,
          14,
          19,
          15,
          19,
          16,
          15,
          11,
          18,
          13,
          18
         ],
         "xaxis": "x",
         "y": [
          4,
          5,
          5,
          4,
          10,
          2,
          7,
          4,
          2,
          9,
          7,
          7,
          5,
          4,
          5,
          3,
          10,
          10,
          3,
          1,
          4,
          6,
          6,
          7,
          1,
          4,
          8,
          5,
          3,
          9,
          9,
          6,
          3,
          8,
          10,
          2,
          6,
          8,
          8,
          1,
          9,
          8,
          8,
          2,
          10,
          5,
          1,
          1,
          3,
          6,
          3,
          8,
          2,
          5,
          6,
          7,
          3,
          5,
          7,
          10,
          3,
          6,
          5,
          10,
          4,
          7,
          10,
          1,
          2,
          9,
          4,
          3,
          2,
          3,
          9,
          7,
          3,
          3,
          3,
          8,
          6,
          6,
          9,
          5,
          4,
          1,
          4,
          9,
          3,
          2,
          2,
          6,
          5,
          4,
          4,
          4,
          4,
          9,
          2,
          10,
          10,
          8,
          4,
          6,
          4,
          5,
          10,
          10,
          9,
          6,
          9,
          9,
          2,
          8,
          9,
          7,
          10,
          7,
          7,
          1,
          2,
          6,
          6,
          1,
          1,
          9,
          10,
          1,
          8,
          10,
          10,
          6,
          7,
          2,
          5,
          3,
          1,
          9,
          8,
          8,
          6,
          1,
          2,
          8,
          1,
          10,
          7,
          4,
          2,
          1,
          10,
          7,
          7,
          3,
          9,
          9,
          10,
          8,
          10,
          4,
          10,
          9,
          4,
          1,
          5,
          6,
          7,
          9,
          3,
          1,
          5,
          8,
          8,
          4,
          1,
          9,
          2,
          1,
          4,
          2,
          7,
          3,
          6,
          5,
          7,
          5,
          10,
          1,
          3,
          4,
          6,
          4,
          9,
          2,
          8,
          7,
          7,
          2,
          1,
          4,
          1,
          7,
          1,
          8,
          6,
          2,
          2,
          4,
          6,
          1,
          7,
          2,
          2,
          5,
          7,
          1,
          9,
          5,
          2,
          6,
          8,
          7,
          1,
          5,
          2,
          3,
          2,
          9,
          8,
          1,
          9,
          3,
          10,
          10,
          1,
          10,
          4,
          3,
          3,
          2,
          10,
          4,
          7,
          6,
          6,
          7,
          2,
          6,
          4,
          10,
          7,
          6,
          7,
          9,
          10,
          2,
          6,
          9,
          4,
          9,
          6,
          5,
          9,
          8,
          4,
          4,
          3,
          3,
          10,
          9,
          6,
          4,
          4,
          6,
          5,
          1,
          4,
          8,
          4,
          10,
          3,
          5,
          9,
          6,
          9,
          5,
          1,
          1,
          6,
          9,
          6,
          2,
          3,
          9,
          10,
          4,
          8,
          10,
          8,
          3,
          3,
          10,
          5,
          3,
          3,
          10,
          3,
          10,
          9,
          3,
          4,
          3,
          2,
          6,
          2,
          3,
          8,
          8,
          10,
          6,
          2,
          8,
          8,
          4,
          8,
          5,
          6,
          5,
          3,
          4,
          1,
          5
         ],
         "yaxis": "y"
        },
        {
         "alignmentgroup": "True",
         "bingroup": "x",
         "histfunc": "sum",
         "hovertemplate": "City=Naypyitaw<br>time=%{x}<br>sum of quantity=%{y}<extra></extra>",
         "legendgroup": "Naypyitaw",
         "marker": {
          "color": "#EF553B",
          "pattern": {
           "shape": ""
          }
         },
         "name": "Naypyitaw",
         "offsetgroup": "Naypyitaw",
         "orientation": "v",
         "showlegend": true,
         "type": "histogram",
         "x": [
          20,
          16,
          13,
          15,
          15,
          16,
          12,
          15,
          10,
          12,
          14,
          12,
          16,
          19,
          19,
          16,
          11,
          10,
          20,
          18,
          11,
          12,
          14,
          13,
          13,
          11,
          15,
          18,
          10,
          11,
          12,
          20,
          11,
          15,
          14,
          15,
          15,
          18,
          17,
          10,
          17,
          17,
          13,
          10,
          18,
          19,
          18,
          18,
          17,
          10,
          11,
          12,
          19,
          13,
          14,
          11,
          20,
          16,
          20,
          19,
          10,
          11,
          13,
          10,
          17,
          17,
          18,
          20,
          12,
          16,
          15,
          19,
          15,
          19,
          14,
          11,
          15,
          16,
          15,
          12,
          14,
          13,
          14,
          10,
          16,
          14,
          12,
          11,
          20,
          11,
          20,
          15,
          20,
          15,
          15,
          15,
          19,
          18,
          20,
          11,
          19,
          13,
          14,
          10,
          16,
          17,
          16,
          10,
          16,
          15,
          12,
          12,
          19,
          14,
          13,
          10,
          11,
          12,
          16,
          10,
          20,
          18,
          12,
          10,
          15,
          14,
          18,
          19,
          19,
          15,
          18,
          12,
          18,
          13,
          17,
          15,
          10,
          16,
          14,
          14,
          12,
          18,
          18,
          14,
          17,
          18,
          10,
          12,
          10,
          18,
          13,
          13,
          17,
          10,
          14,
          12,
          14,
          15,
          12,
          13,
          12,
          17,
          16,
          16,
          13,
          17,
          18,
          19,
          18,
          17,
          17,
          11,
          14,
          14,
          16,
          10,
          19,
          19,
          18,
          18,
          16,
          12,
          17,
          10,
          19,
          13,
          13,
          13,
          19,
          16,
          15,
          16,
          17,
          19,
          12,
          12,
          13,
          20,
          15,
          10,
          14,
          13,
          19,
          14,
          20,
          12,
          18,
          19,
          19,
          20,
          20,
          19,
          10,
          15,
          19,
          11,
          13,
          10,
          20,
          10,
          17,
          13,
          19,
          10,
          19,
          13,
          11,
          13,
          19,
          16,
          14,
          17,
          16,
          20,
          20,
          19,
          13,
          11,
          11,
          12,
          14,
          10,
          13,
          13,
          15,
          14,
          17,
          18,
          20,
          19,
          12,
          17,
          14,
          10,
          19,
          15,
          12,
          17,
          11,
          17,
          11,
          10,
          14,
          17,
          19,
          14,
          20,
          19,
          16,
          19,
          19,
          16,
          18,
          11,
          15,
          13,
          13,
          13,
          15,
          10,
          13,
          13,
          10,
          20,
          19,
          12,
          17,
          13,
          12,
          10,
          16,
          15,
          19,
          12,
          16,
          20,
          17,
          17,
          15,
          20,
          16,
          18,
          11,
          10,
          10,
          20,
          20,
          10,
          15,
          20,
          10,
          15,
          13,
          12,
          18,
          16,
          20,
          15,
          12,
          16,
          14,
          13,
          10,
          10,
          14,
          17,
          15,
          19
         ],
         "xaxis": "x",
         "y": [
          8,
          1,
          10,
          1,
          4,
          1,
          1,
          9,
          8,
          10,
          5,
          10,
          8,
          2,
          10,
          4,
          1,
          1,
          1,
          3,
          3,
          7,
          8,
          10,
          7,
          10,
          2,
          1,
          4,
          6,
          6,
          7,
          6,
          10,
          10,
          5,
          7,
          6,
          6,
          1,
          1,
          5,
          1,
          1,
          5,
          9,
          7,
          5,
          7,
          6,
          10,
          7,
          8,
          7,
          10,
          2,
          10,
          2,
          7,
          4,
          5,
          8,
          5,
          3,
          6,
          8,
          5,
          4,
          1,
          1,
          8,
          8,
          5,
          8,
          6,
          9,
          2,
          10,
          2,
          3,
          4,
          7,
          9,
          9,
          10,
          1,
          8,
          2,
          1,
          6,
          8,
          5,
          5,
          4,
          9,
          1,
          7,
          10,
          3,
          7,
          7,
          9,
          6,
          1,
          7,
          8,
          10,
          10,
          7,
          10,
          9,
          5,
          7,
          10,
          6,
          6,
          7,
          2,
          6,
          1,
          10,
          2,
          2,
          7,
          1,
          6,
          8,
          2,
          10,
          9,
          2,
          2,
          4,
          6,
          5,
          5,
          5,
          4,
          2,
          7,
          1,
          5,
          9,
          2,
          10,
          9,
          5,
          6,
          7,
          5,
          4,
          7,
          2,
          9,
          9,
          9,
          1,
          2,
          10,
          1,
          2,
          4,
          10,
          10,
          4,
          10,
          10,
          2,
          6,
          10,
          4,
          4,
          4,
          9,
          10,
          6,
          5,
          4,
          6,
          5,
          7,
          4,
          6,
          1,
          10,
          10,
          10,
          4,
          3,
          6,
          8,
          9,
          9,
          8,
          7,
          10,
          3,
          9,
          1,
          3,
          10,
          8,
          8,
          2,
          3,
          7,
          2,
          1,
          9,
          4,
          3,
          7,
          4,
          8,
          10,
          8,
          5,
          7,
          1,
          7,
          6,
          6,
          8,
          9,
          1,
          9,
          9,
          10,
          2,
          3,
          4,
          7,
          7,
          4,
          6,
          10,
          1,
          5,
          7,
          3,
          9,
          7,
          6,
          1,
          3,
          2,
          4,
          7,
          7,
          3,
          6,
          6,
          10,
          6,
          9,
          4,
          4,
          7,
          10,
          3,
          10,
          5,
          1,
          1,
          5,
          8,
          4,
          9,
          4,
          5,
          9,
          2,
          7,
          1,
          1,
          10,
          3,
          3,
          7,
          1,
          4,
          1,
          4,
          6,
          2,
          8,
          10,
          5,
          8,
          7,
          4,
          1,
          8,
          3,
          4,
          6,
          3,
          2,
          1,
          9,
          4,
          7,
          5,
          5,
          3,
          8,
          10,
          1,
          1,
          2,
          6,
          8,
          10,
          1,
          2,
          5,
          10,
          1,
          4,
          5,
          10,
          8,
          2,
          8,
          8,
          1,
          1,
          2
         ],
         "yaxis": "y"
        },
        {
         "alignmentgroup": "True",
         "bingroup": "x",
         "histfunc": "sum",
         "hovertemplate": "City=Yangon<br>time=%{x}<br>sum of quantity=%{y}<extra></extra>",
         "legendgroup": "Yangon",
         "marker": {
          "color": "#00cc96",
          "pattern": {
           "shape": ""
          }
         },
         "name": "Yangon",
         "offsetgroup": "Yangon",
         "orientation": "v",
         "showlegend": true,
         "type": "histogram",
         "x": [
          17,
          13,
          15,
          15,
          13,
          17,
          19,
          18,
          10,
          12,
          11,
          20,
          10,
          15,
          12,
          11,
          14,
          18,
          15,
          15,
          17,
          11,
          15,
          13,
          20,
          19,
          10,
          13,
          12,
          16,
          10,
          10,
          18,
          11,
          17,
          18,
          14,
          17,
          10,
          13,
          18,
          16,
          13,
          11,
          10,
          15,
          10,
          13,
          19,
          18,
          12,
          14,
          18,
          14,
          14,
          18,
          19,
          18,
          11,
          11,
          20,
          14,
          19,
          18,
          16,
          16,
          10,
          14,
          16,
          15,
          20,
          11,
          12,
          12,
          17,
          19,
          20,
          17,
          17,
          18,
          16,
          14,
          16,
          10,
          10,
          18,
          12,
          15,
          12,
          11,
          13,
          15,
          14,
          16,
          12,
          11,
          13,
          12,
          10,
          10,
          11,
          11,
          16,
          14,
          14,
          11,
          12,
          16,
          11,
          18,
          18,
          12,
          15,
          16,
          15,
          20,
          12,
          10,
          11,
          12,
          13,
          11,
          11,
          19,
          15,
          10,
          11,
          15,
          17,
          13,
          19,
          12,
          13,
          18,
          13,
          10,
          17,
          10,
          17,
          13,
          20,
          17,
          15,
          14,
          10,
          20,
          14,
          14,
          15,
          11,
          17,
          15,
          15,
          10,
          17,
          18,
          10,
          16,
          12,
          15,
          11,
          11,
          15,
          17,
          19,
          10,
          15,
          12,
          19,
          17,
          11,
          18,
          10,
          11,
          19,
          16,
          10,
          17,
          14,
          10,
          20,
          13,
          10,
          19,
          15,
          16,
          16,
          11,
          15,
          16,
          16,
          19,
          16,
          15,
          11,
          13,
          12,
          16,
          19,
          15,
          20,
          20,
          13,
          18,
          17,
          20,
          20,
          20,
          14,
          16,
          10,
          20,
          16,
          20,
          16,
          12,
          17,
          14,
          18,
          14,
          12,
          19,
          15,
          11,
          12,
          11,
          10,
          12,
          12,
          14,
          13,
          11,
          14,
          12,
          16,
          14,
          13,
          19,
          13,
          14,
          19,
          13,
          13,
          15,
          16,
          16,
          10,
          18,
          11,
          11,
          19,
          16,
          13,
          12,
          16,
          18,
          20,
          17,
          19,
          20,
          19,
          12,
          10,
          17,
          12,
          13,
          18,
          10,
          19,
          15,
          17,
          15,
          10,
          14,
          17,
          20,
          15,
          18,
          10,
          15,
          15,
          19,
          10,
          18,
          10,
          19,
          18,
          13,
          19,
          19,
          15,
          14,
          20,
          10,
          12,
          18,
          16,
          13,
          10,
          12,
          16,
          12,
          10,
          17,
          11,
          18,
          10,
          12,
          15,
          13,
          12,
          16,
          11,
          17,
          11,
          13,
          18,
          19,
          19,
          16,
          14,
          13,
          18,
          15,
          12,
          17,
          20,
          15,
          18,
          18,
          13,
          11,
          16,
          20,
          17,
          18,
          11,
          15,
          18,
          13
         ],
         "xaxis": "x",
         "y": [
          8,
          8,
          3,
          1,
          1,
          6,
          5,
          10,
          5,
          10,
          6,
          2,
          4,
          9,
          3,
          5,
          9,
          3,
          4,
          4,
          4,
          3,
          9,
          10,
          8,
          1,
          7,
          2,
          6,
          8,
          2,
          3,
          4,
          4,
          6,
          3,
          10,
          8,
          7,
          4,
          1,
          2,
          6,
          1,
          2,
          3,
          8,
          5,
          1,
          4,
          9,
          1,
          2,
          3,
          5,
          2,
          10,
          10,
          7,
          7,
          7,
          5,
          10,
          4,
          3,
          4,
          5,
          1,
          7,
          7,
          1,
          10,
          7,
          2,
          9,
          9,
          5,
          4,
          7,
          2,
          4,
          1,
          2,
          8,
          8,
          3,
          4,
          10,
          1,
          9,
          7,
          8,
          2,
          4,
          7,
          10,
          9,
          4,
          6,
          1,
          8,
          4,
          4,
          5,
          8,
          4,
          2,
          9,
          1,
          2,
          10,
          8,
          2,
          3,
          1,
          9,
          9,
          1,
          5,
          1,
          10,
          7,
          9,
          10,
          9,
          5,
          2,
          5,
          3,
          4,
          5,
          6,
          5,
          6,
          9,
          5,
          2,
          3,
          8,
          7,
          7,
          4,
          4,
          6,
          2,
          1,
          7,
          4,
          6,
          1,
          8,
          2,
          3,
          10,
          8,
          1,
          10,
          10,
          10,
          10,
          8,
          2,
          5,
          9,
          5,
          2,
          9,
          2,
          8,
          3,
          5,
          3,
          6,
          7,
          10,
          10,
          5,
          2,
          6,
          7,
          8,
          7,
          9,
          6,
          9,
          1,
          9,
          5,
          7,
          6,
          10,
          7,
          1,
          5,
          9,
          8,
          10,
          6,
          8,
          6,
          5,
          6,
          5,
          7,
          8,
          10,
          9,
          6,
          10,
          6,
          3,
          1,
          7,
          7,
          9,
          1,
          7,
          10,
          1,
          3,
          2,
          1,
          3,
          6,
          9,
          10,
          1,
          1,
          7,
          2,
          3,
          3,
          1,
          5,
          5,
          3,
          4,
          4,
          4,
          5,
          7,
          9,
          10,
          6,
          3,
          3,
          2,
          9,
          9,
          1,
          3,
          4,
          3,
          3,
          7,
          5,
          6,
          3,
          9,
          4,
          5,
          10,
          3,
          10,
          2,
          6,
          4,
          10,
          10,
          4,
          1,
          5,
          3,
          3,
          10,
          7,
          6,
          7,
          6,
          9,
          6,
          6,
          10,
          7,
          7,
          8,
          3,
          5,
          4,
          5,
          4,
          5,
          5,
          1,
          10,
          1,
          10,
          5,
          4,
          5,
          5,
          9,
          4,
          6,
          8,
          7,
          7,
          5,
          1,
          4,
          9,
          10,
          3,
          4,
          1,
          5,
          8,
          6,
          9,
          5,
          6,
          6,
          2,
          2,
          7,
          5,
          8,
          1,
          10,
          4,
          5,
          1,
          5,
          3,
          5,
          10,
          4,
          5,
          7,
          7
         ],
         "yaxis": "y"
        }
       ],
       "layout": {
        "barmode": "group",
        "legend": {
         "title": {
          "text": "City"
         },
         "tracegroupgap": 0
        },
        "margin": {
         "t": 60
        },
        "template": {
         "data": {
          "bar": [
           {
            "error_x": {
             "color": "#2a3f5f"
            },
            "error_y": {
             "color": "#2a3f5f"
            },
            "marker": {
             "line": {
              "color": "#E5ECF6",
              "width": 0.5
             },
             "pattern": {
              "fillmode": "overlay",
              "size": 10,
              "solidity": 0.2
             }
            },
            "type": "bar"
           }
          ],
          "barpolar": [
           {
            "marker": {
             "line": {
              "color": "#E5ECF6",
              "width": 0.5
             },
             "pattern": {
              "fillmode": "overlay",
              "size": 10,
              "solidity": 0.2
             }
            },
            "type": "barpolar"
           }
          ],
          "carpet": [
           {
            "aaxis": {
             "endlinecolor": "#2a3f5f",
             "gridcolor": "white",
             "linecolor": "white",
             "minorgridcolor": "white",
             "startlinecolor": "#2a3f5f"
            },
            "baxis": {
             "endlinecolor": "#2a3f5f",
             "gridcolor": "white",
             "linecolor": "white",
             "minorgridcolor": "white",
             "startlinecolor": "#2a3f5f"
            },
            "type": "carpet"
           }
          ],
          "choropleth": [
           {
            "colorbar": {
             "outlinewidth": 0,
             "ticks": ""
            },
            "type": "choropleth"
           }
          ],
          "contour": [
           {
            "colorbar": {
             "outlinewidth": 0,
             "ticks": ""
            },
            "colorscale": [
             [
              0,
              "#0d0887"
             ],
             [
              0.1111111111111111,
              "#46039f"
             ],
             [
              0.2222222222222222,
              "#7201a8"
             ],
             [
              0.3333333333333333,
              "#9c179e"
             ],
             [
              0.4444444444444444,
              "#bd3786"
             ],
             [
              0.5555555555555556,
              "#d8576b"
             ],
             [
              0.6666666666666666,
              "#ed7953"
             ],
             [
              0.7777777777777778,
              "#fb9f3a"
             ],
             [
              0.8888888888888888,
              "#fdca26"
             ],
             [
              1,
              "#f0f921"
             ]
            ],
            "type": "contour"
           }
          ],
          "contourcarpet": [
           {
            "colorbar": {
             "outlinewidth": 0,
             "ticks": ""
            },
            "type": "contourcarpet"
           }
          ],
          "heatmap": [
           {
            "colorbar": {
             "outlinewidth": 0,
             "ticks": ""
            },
            "colorscale": [
             [
              0,
              "#0d0887"
             ],
             [
              0.1111111111111111,
              "#46039f"
             ],
             [
              0.2222222222222222,
              "#7201a8"
             ],
             [
              0.3333333333333333,
              "#9c179e"
             ],
             [
              0.4444444444444444,
              "#bd3786"
             ],
             [
              0.5555555555555556,
              "#d8576b"
             ],
             [
              0.6666666666666666,
              "#ed7953"
             ],
             [
              0.7777777777777778,
              "#fb9f3a"
             ],
             [
              0.8888888888888888,
              "#fdca26"
             ],
             [
              1,
              "#f0f921"
             ]
            ],
            "type": "heatmap"
           }
          ],
          "heatmapgl": [
           {
            "colorbar": {
             "outlinewidth": 0,
             "ticks": ""
            },
            "colorscale": [
             [
              0,
              "#0d0887"
             ],
             [
              0.1111111111111111,
              "#46039f"
             ],
             [
              0.2222222222222222,
              "#7201a8"
             ],
             [
              0.3333333333333333,
              "#9c179e"
             ],
             [
              0.4444444444444444,
              "#bd3786"
             ],
             [
              0.5555555555555556,
              "#d8576b"
             ],
             [
              0.6666666666666666,
              "#ed7953"
             ],
             [
              0.7777777777777778,
              "#fb9f3a"
             ],
             [
              0.8888888888888888,
              "#fdca26"
             ],
             [
              1,
              "#f0f921"
             ]
            ],
            "type": "heatmapgl"
           }
          ],
          "histogram": [
           {
            "marker": {
             "pattern": {
              "fillmode": "overlay",
              "size": 10,
              "solidity": 0.2
             }
            },
            "type": "histogram"
           }
          ],
          "histogram2d": [
           {
            "colorbar": {
             "outlinewidth": 0,
             "ticks": ""
            },
            "colorscale": [
             [
              0,
              "#0d0887"
             ],
             [
              0.1111111111111111,
              "#46039f"
             ],
             [
              0.2222222222222222,
              "#7201a8"
             ],
             [
              0.3333333333333333,
              "#9c179e"
             ],
             [
              0.4444444444444444,
              "#bd3786"
             ],
             [
              0.5555555555555556,
              "#d8576b"
             ],
             [
              0.6666666666666666,
              "#ed7953"
             ],
             [
              0.7777777777777778,
              "#fb9f3a"
             ],
             [
              0.8888888888888888,
              "#fdca26"
             ],
             [
              1,
              "#f0f921"
             ]
            ],
            "type": "histogram2d"
           }
          ],
          "histogram2dcontour": [
           {
            "colorbar": {
             "outlinewidth": 0,
             "ticks": ""
            },
            "colorscale": [
             [
              0,
              "#0d0887"
             ],
             [
              0.1111111111111111,
              "#46039f"
             ],
             [
              0.2222222222222222,
              "#7201a8"
             ],
             [
              0.3333333333333333,
              "#9c179e"
             ],
             [
              0.4444444444444444,
              "#bd3786"
             ],
             [
              0.5555555555555556,
              "#d8576b"
             ],
             [
              0.6666666666666666,
              "#ed7953"
             ],
             [
              0.7777777777777778,
              "#fb9f3a"
             ],
             [
              0.8888888888888888,
              "#fdca26"
             ],
             [
              1,
              "#f0f921"
             ]
            ],
            "type": "histogram2dcontour"
           }
          ],
          "mesh3d": [
           {
            "colorbar": {
             "outlinewidth": 0,
             "ticks": ""
            },
            "type": "mesh3d"
           }
          ],
          "parcoords": [
           {
            "line": {
             "colorbar": {
              "outlinewidth": 0,
              "ticks": ""
             }
            },
            "type": "parcoords"
           }
          ],
          "pie": [
           {
            "automargin": true,
            "type": "pie"
           }
          ],
          "scatter": [
           {
            "fillpattern": {
             "fillmode": "overlay",
             "size": 10,
             "solidity": 0.2
            },
            "type": "scatter"
           }
          ],
          "scatter3d": [
           {
            "line": {
             "colorbar": {
              "outlinewidth": 0,
              "ticks": ""
             }
            },
            "marker": {
             "colorbar": {
              "outlinewidth": 0,
              "ticks": ""
             }
            },
            "type": "scatter3d"
           }
          ],
          "scattercarpet": [
           {
            "marker": {
             "colorbar": {
              "outlinewidth": 0,
              "ticks": ""
             }
            },
            "type": "scattercarpet"
           }
          ],
          "scattergeo": [
           {
            "marker": {
             "colorbar": {
              "outlinewidth": 0,
              "ticks": ""
             }
            },
            "type": "scattergeo"
           }
          ],
          "scattergl": [
           {
            "marker": {
             "colorbar": {
              "outlinewidth": 0,
              "ticks": ""
             }
            },
            "type": "scattergl"
           }
          ],
          "scattermapbox": [
           {
            "marker": {
             "colorbar": {
              "outlinewidth": 0,
              "ticks": ""
             }
            },
            "type": "scattermapbox"
           }
          ],
          "scatterpolar": [
           {
            "marker": {
             "colorbar": {
              "outlinewidth": 0,
              "ticks": ""
             }
            },
            "type": "scatterpolar"
           }
          ],
          "scatterpolargl": [
           {
            "marker": {
             "colorbar": {
              "outlinewidth": 0,
              "ticks": ""
             }
            },
            "type": "scatterpolargl"
           }
          ],
          "scatterternary": [
           {
            "marker": {
             "colorbar": {
              "outlinewidth": 0,
              "ticks": ""
             }
            },
            "type": "scatterternary"
           }
          ],
          "surface": [
           {
            "colorbar": {
             "outlinewidth": 0,
             "ticks": ""
            },
            "colorscale": [
             [
              0,
              "#0d0887"
             ],
             [
              0.1111111111111111,
              "#46039f"
             ],
             [
              0.2222222222222222,
              "#7201a8"
             ],
             [
              0.3333333333333333,
              "#9c179e"
             ],
             [
              0.4444444444444444,
              "#bd3786"
             ],
             [
              0.5555555555555556,
              "#d8576b"
             ],
             [
              0.6666666666666666,
              "#ed7953"
             ],
             [
              0.7777777777777778,
              "#fb9f3a"
             ],
             [
              0.8888888888888888,
              "#fdca26"
             ],
             [
              1,
              "#f0f921"
             ]
            ],
            "type": "surface"
           }
          ],
          "table": [
           {
            "cells": {
             "fill": {
              "color": "#EBF0F8"
             },
             "line": {
              "color": "white"
             }
            },
            "header": {
             "fill": {
              "color": "#C8D4E3"
             },
             "line": {
              "color": "white"
             }
            },
            "type": "table"
           }
          ]
         },
         "layout": {
          "annotationdefaults": {
           "arrowcolor": "#2a3f5f",
           "arrowhead": 0,
           "arrowwidth": 1
          },
          "autotypenumbers": "strict",
          "coloraxis": {
           "colorbar": {
            "outlinewidth": 0,
            "ticks": ""
           }
          },
          "colorscale": {
           "diverging": [
            [
             0,
             "#8e0152"
            ],
            [
             0.1,
             "#c51b7d"
            ],
            [
             0.2,
             "#de77ae"
            ],
            [
             0.3,
             "#f1b6da"
            ],
            [
             0.4,
             "#fde0ef"
            ],
            [
             0.5,
             "#f7f7f7"
            ],
            [
             0.6,
             "#e6f5d0"
            ],
            [
             0.7,
             "#b8e186"
            ],
            [
             0.8,
             "#7fbc41"
            ],
            [
             0.9,
             "#4d9221"
            ],
            [
             1,
             "#276419"
            ]
           ],
           "sequential": [
            [
             0,
             "#0d0887"
            ],
            [
             0.1111111111111111,
             "#46039f"
            ],
            [
             0.2222222222222222,
             "#7201a8"
            ],
            [
             0.3333333333333333,
             "#9c179e"
            ],
            [
             0.4444444444444444,
             "#bd3786"
            ],
            [
             0.5555555555555556,
             "#d8576b"
            ],
            [
             0.6666666666666666,
             "#ed7953"
            ],
            [
             0.7777777777777778,
             "#fb9f3a"
            ],
            [
             0.8888888888888888,
             "#fdca26"
            ],
            [
             1,
             "#f0f921"
            ]
           ],
           "sequentialminus": [
            [
             0,
             "#0d0887"
            ],
            [
             0.1111111111111111,
             "#46039f"
            ],
            [
             0.2222222222222222,
             "#7201a8"
            ],
            [
             0.3333333333333333,
             "#9c179e"
            ],
            [
             0.4444444444444444,
             "#bd3786"
            ],
            [
             0.5555555555555556,
             "#d8576b"
            ],
            [
             0.6666666666666666,
             "#ed7953"
            ],
            [
             0.7777777777777778,
             "#fb9f3a"
            ],
            [
             0.8888888888888888,
             "#fdca26"
            ],
            [
             1,
             "#f0f921"
            ]
           ]
          },
          "colorway": [
           "#636efa",
           "#EF553B",
           "#00cc96",
           "#ab63fa",
           "#FFA15A",
           "#19d3f3",
           "#FF6692",
           "#B6E880",
           "#FF97FF",
           "#FECB52"
          ],
          "font": {
           "color": "#2a3f5f"
          },
          "geo": {
           "bgcolor": "white",
           "lakecolor": "white",
           "landcolor": "#E5ECF6",
           "showlakes": true,
           "showland": true,
           "subunitcolor": "white"
          },
          "hoverlabel": {
           "align": "left"
          },
          "hovermode": "closest",
          "mapbox": {
           "style": "light"
          },
          "paper_bgcolor": "white",
          "plot_bgcolor": "#E5ECF6",
          "polar": {
           "angularaxis": {
            "gridcolor": "white",
            "linecolor": "white",
            "ticks": ""
           },
           "bgcolor": "#E5ECF6",
           "radialaxis": {
            "gridcolor": "white",
            "linecolor": "white",
            "ticks": ""
           }
          },
          "scene": {
           "xaxis": {
            "backgroundcolor": "#E5ECF6",
            "gridcolor": "white",
            "gridwidth": 2,
            "linecolor": "white",
            "showbackground": true,
            "ticks": "",
            "zerolinecolor": "white"
           },
           "yaxis": {
            "backgroundcolor": "#E5ECF6",
            "gridcolor": "white",
            "gridwidth": 2,
            "linecolor": "white",
            "showbackground": true,
            "ticks": "",
            "zerolinecolor": "white"
           },
           "zaxis": {
            "backgroundcolor": "#E5ECF6",
            "gridcolor": "white",
            "gridwidth": 2,
            "linecolor": "white",
            "showbackground": true,
            "ticks": "",
            "zerolinecolor": "white"
           }
          },
          "shapedefaults": {
           "line": {
            "color": "#2a3f5f"
           }
          },
          "ternary": {
           "aaxis": {
            "gridcolor": "white",
            "linecolor": "white",
            "ticks": ""
           },
           "baxis": {
            "gridcolor": "white",
            "linecolor": "white",
            "ticks": ""
           },
           "bgcolor": "#E5ECF6",
           "caxis": {
            "gridcolor": "white",
            "linecolor": "white",
            "ticks": ""
           }
          },
          "title": {
           "x": 0.05
          },
          "xaxis": {
           "automargin": true,
           "gridcolor": "white",
           "linecolor": "white",
           "ticks": "",
           "title": {
            "standoff": 15
           },
           "zerolinecolor": "white",
           "zerolinewidth": 2
          },
          "yaxis": {
           "automargin": true,
           "gridcolor": "white",
           "linecolor": "white",
           "ticks": "",
           "title": {
            "standoff": 15
           },
           "zerolinecolor": "white",
           "zerolinewidth": 2
          }
         }
        },
        "xaxis": {
         "anchor": "y",
         "domain": [
          0,
          1
         ],
         "title": {
          "text": "time"
         }
        },
        "yaxis": {
         "anchor": "x",
         "domain": [
          0,
          1
         ],
         "title": {
          "text": "sum of quantity"
         }
        }
       }
      }
     },
     "metadata": {},
     "output_type": "display_data"
    },
    {
     "name": "stdout",
     "output_type": "stream",
     "text": [
      "Waktu paling sibuk pada 19.0 rata-rata  216.33333333333334 item jumlah penjualan\n"
     ]
    }
   ],
   "source": [
    "#Membuat variabel quantity penjualan pada setiap kota\n",
    "total_Q = df.groupby(['City','time'])['quantity'].sum()\n",
    "total_Q= total_Q.groupby(\"time\").mean().reset_index()\n",
    "total_Q_sorted=total_Q.sort_values('quantity',ascending=False)\n",
    "\n",
    "#menampilkan grafik pada kota dalam penjualan paling sibuk\n",
    "busy_time_graph= px.histogram(df.sort_values(\"City\"), x='time', y='quantity' ,color='City', barmode='group')\n",
    "busy_time_graph.show()\n",
    "\n",
    "print(f'Waktu paling sibuk pada {total_Q_sorted.values[0,0]} rata-rata  {total_Q_sorted.values[0,1] } item jumlah penjualan')\n"
   ]
  },
  {
   "cell_type": "markdown",
   "metadata": {},
   "source": [
    "Dari grafik diatas dapat kita ketahui bawah dari ketiga kota, waktu tersibuk dalam penjualan ada pada pukul 13:40 dengan rata-rata penjualan 22 item."
   ]
  },
  {
   "cell_type": "code",
   "execution_count": 53,
   "metadata": {},
   "outputs": [
    {
     "name": "stdout",
     "output_type": "stream",
     "text": [
      "Yangon - 340\n",
      "Naypyitow - 328\n",
      "Mandalay - 332\n"
     ]
    },
    {
     "name": "stderr",
     "output_type": "stream",
     "text": [
      "c:\\Users\\TheSevenS\\anaconda3\\lib\\site-packages\\seaborn\\_decorators.py:36: FutureWarning:\n",
      "\n",
      "Pass the following variable as a keyword arg: x. From version 0.12, the only valid positional argument will be `data`, and passing other arguments without an explicit keyword will result in an error or misinterpretation.\n",
      "\n"
     ]
    },
    {
     "data": {
      "image/png": "[encoded data removed]",
      "text/plain": [
       "<Figure size 750x500 with 1 Axes>"
      ]
     },
     "metadata": {},
     "output_type": "display_data"
    }
   ],
   "source": [
    "#Menampilkan graftik penjualan tersibuk antar Kota\n",
    "plt.figure(dpi=125)\n",
    "sns.countplot(df['City'])\n",
    "plt.xlabel('City')\n",
    "plt.ylabel('Count')\n",
    "plt.title('Kota dalam penjualan tersibuk?')\n",
    "A,B,C =df.City.value_counts()\n",
    "\n",
    "print('Yangon -',A)\n",
    "print('Naypyitow -',C)\n",
    "print('Mandalay -',B)\n",
    "plt.show()"
   ]
  },
  {
   "cell_type": "markdown",
   "metadata": {},
   "source": [
    "Dari grafik diatas ini terbukti untuk menguatkan bahwa kota Yangon merupakan kota tersibuk dalam penjualan diantara 2 kota lainnya.\n",
    "\n",
    "Selanjutnya kita akan mengecek jenis pembayaran apa yang paling sering digunakan oleh pembeli dalam melakukan transaksi di supermarket ini."
   ]
  },
  {
   "cell_type": "markdown",
   "metadata": {},
   "source": [
    "**Jenis pembayaran apa yang paling digunakan oleh konsumen?**"
   ]
  },
  {
   "cell_type": "code",
   "execution_count": 54,
   "metadata": {},
   "outputs": [
    {
     "data": {
      "text/plain": [
       "Text(0.5, 1.0, 'Payment type favorit?')"
      ]
     },
     "execution_count": 54,
     "metadata": {},
     "output_type": "execute_result"
    },
    {
     "data": {
      "image/png": "[encoded data removed]",
      "text/plain": [
       "<Figure size 432x288 with 1 Axes>"
      ]
     },
     "metadata": {},
     "output_type": "display_data"
    }
   ],
   "source": [
    "#Membuat grafik berdasarkan gender dan kepuasan konsumen\n",
    "payment_satisfaction_gender = df[(df['gender'] == 'Male')|(df['gender'] == 'Female')].groupby(['payment','gender']).count()['rating'].sort_values(ascending=False).reset_index()\n",
    "sns.barplot(x=payment_satisfaction_gender['payment'], y=payment_satisfaction_gender['rating'], orient='v', hue=payment_satisfaction_gender['gender'])\n",
    "plt.title('Payment type favorit?')"
   ]
  },
  {
   "cell_type": "markdown",
   "metadata": {},
   "source": [
    "Grafik diatas menunjukkan bahwa konsumen pria lebih senang menggunakan *Ewallet* dengan rating yang tinggi diantara jenis pembayaran lainnya. Sedangkan untuk konsumen wanita lebih menyukai jenis pembayaran cash dengan tingkat kepuasan paling tinggi diantara jenis pembayaran lainnya."
   ]
  },
  {
   "cell_type": "code",
   "execution_count": 55,
   "metadata": {},
   "outputs": [
    {
     "data": {
      "image/png": "[encoded data removed]",
      "text/plain": [
       "<Figure size 600x400 with 1 Axes>"
      ]
     },
     "metadata": {},
     "output_type": "display_data"
    }
   ],
   "source": [
    "#Menampilkan grafik produk favorit berdasarkan gender\n",
    "plt.figure(dpi=100)\n",
    "sns.countplot(y ='product_line', hue = \"gender\", data = df) \n",
    "plt.xlabel('Count')\n",
    "plt.ylabel('Product Type')\n",
    "plt.title('Produk paling dibeli berdasarkan gender?')\n",
    "plt.show()"
   ]
  },
  {
   "cell_type": "markdown",
   "metadata": {},
   "source": [
    "Dari grafik diatas konsumen pria lebih menyukai membeli produk *Health & Beauty*  sedangkan konsumen wanita lebih menyukai membeli produk *Fashion accessories* dengan perbedaan yang sangat besar berbeda dengan tipe produk lainnya."
   ]
  },
  {
   "cell_type": "code",
   "execution_count": 56,
   "metadata": {},
   "outputs": [
    {
     "data": {
      "image/png": "[encoded data removed]",
      "text/plain": [
       "<Figure size 750x500 with 1 Axes>"
      ]
     },
     "metadata": {},
     "output_type": "display_data"
    }
   ],
   "source": [
    "#Menampilkan kota mana yang memiliki produk favorit dalam penjualan\n",
    "plt.figure(dpi=125)\n",
    "sns.countplot(y ='product_line', hue = \"City\", data = df) \n",
    "plt.xlabel('Count')\n",
    "plt.ylabel('Product Type')\n",
    "plt.title('Produk favorit di setiap kota?')\n",
    "plt.show()"
   ]
  },
  {
   "cell_type": "markdown",
   "metadata": {},
   "source": [
    "Pada akhirnya setiap kota memiliki traffic dari yang berbeda dari setiap product yang menjadi favorit dibeli oleh konsumen.\n",
    "- Yangon memiliki produk penjualan favorit yaitu **Home & Lifestyle dan Electronic accesories**\n",
    "- Naypyitaw produk favorit dalam penjualannya adalah **Food & beverages dan Fashion accessories**\n",
    "- Mandalay dengan produk favorit yang banyak dibeli memimpin produk **Sports & Travel dan Health & Beauty**"
   ]
  },
  {
   "cell_type": "markdown",
   "metadata": {},
   "source": [
    "**Kota & Produk apakah yang paling menguntungkan?**"
   ]
  },
  {
   "cell_type": "markdown",
   "metadata": {},
   "source": [
    "Untuk mencari tahu produk yang paling menguntungkan untuk perusahaan ini, kita harus mencari tahu gross income dari setiap tipe produk."
   ]
  },
  {
   "cell_type": "code",
   "execution_count": 57,
   "metadata": {},
   "outputs": [
    {
     "data": {
      "text/html": [
       "<div>\n",
       "<style scoped>\n",
       "    .dataframe tbody tr th:only-of-type {\n",
       "        vertical-align: middle;\n",
       "    }\n",
       "\n",
       "    .dataframe tbody tr th {\n",
       "        vertical-align: top;\n",
       "    }\n",
       "\n",
       "    .dataframe thead th {\n",
       "        text-align: right;\n",
       "    }\n",
       "</style>\n",
       "<table border=\"1\" class=\"dataframe\">\n",
       "  <thead>\n",
       "    <tr style=\"text-align: right;\">\n",
       "      <th></th>\n",
       "      <th>Invoice ID</th>\n",
       "      <th>branch</th>\n",
       "      <th>cust_type</th>\n",
       "      <th>gender</th>\n",
       "      <th>product_line</th>\n",
       "      <th>unit_price</th>\n",
       "      <th>quantity</th>\n",
       "      <th>tax_5%</th>\n",
       "      <th>total</th>\n",
       "      <th>date</th>\n",
       "      <th>time</th>\n",
       "      <th>payment</th>\n",
       "      <th>cogs</th>\n",
       "      <th>gross margin percentage</th>\n",
       "      <th>gross_income</th>\n",
       "      <th>rating</th>\n",
       "      <th>date2</th>\n",
       "    </tr>\n",
       "    <tr>\n",
       "      <th>City</th>\n",
       "      <th></th>\n",
       "      <th></th>\n",
       "      <th></th>\n",
       "      <th></th>\n",
       "      <th></th>\n",
       "      <th></th>\n",
       "      <th></th>\n",
       "      <th></th>\n",
       "      <th></th>\n",
       "      <th></th>\n",
       "      <th></th>\n",
       "      <th></th>\n",
       "      <th></th>\n",
       "      <th></th>\n",
       "      <th></th>\n",
       "      <th></th>\n",
       "      <th></th>\n",
       "    </tr>\n",
       "  </thead>\n",
       "  <tbody>\n",
       "    <tr>\n",
       "      <th>Mandalay</th>\n",
       "      <td>332</td>\n",
       "      <td>332</td>\n",
       "      <td>332</td>\n",
       "      <td>332</td>\n",
       "      <td>332</td>\n",
       "      <td>332</td>\n",
       "      <td>332</td>\n",
       "      <td>332</td>\n",
       "      <td>332</td>\n",
       "      <td>332</td>\n",
       "      <td>332</td>\n",
       "      <td>332</td>\n",
       "      <td>332</td>\n",
       "      <td>332</td>\n",
       "      <td>332</td>\n",
       "      <td>332</td>\n",
       "      <td>332</td>\n",
       "    </tr>\n",
       "    <tr>\n",
       "      <th>Naypyitaw</th>\n",
       "      <td>328</td>\n",
       "      <td>328</td>\n",
       "      <td>328</td>\n",
       "      <td>328</td>\n",
       "      <td>328</td>\n",
       "      <td>328</td>\n",
       "      <td>328</td>\n",
       "      <td>328</td>\n",
       "      <td>328</td>\n",
       "      <td>328</td>\n",
       "      <td>328</td>\n",
       "      <td>328</td>\n",
       "      <td>328</td>\n",
       "      <td>328</td>\n",
       "      <td>328</td>\n",
       "      <td>328</td>\n",
       "      <td>328</td>\n",
       "    </tr>\n",
       "    <tr>\n",
       "      <th>Yangon</th>\n",
       "      <td>340</td>\n",
       "      <td>340</td>\n",
       "      <td>340</td>\n",
       "      <td>340</td>\n",
       "      <td>340</td>\n",
       "      <td>340</td>\n",
       "      <td>340</td>\n",
       "      <td>340</td>\n",
       "      <td>340</td>\n",
       "      <td>340</td>\n",
       "      <td>340</td>\n",
       "      <td>340</td>\n",
       "      <td>340</td>\n",
       "      <td>340</td>\n",
       "      <td>340</td>\n",
       "      <td>340</td>\n",
       "      <td>340</td>\n",
       "    </tr>\n",
       "  </tbody>\n",
       "</table>\n",
       "</div>"
      ],
      "text/plain": [
       "           Invoice ID  branch  cust_type  gender  product_line  unit_price  \\\n",
       "City                                                                         \n",
       "Mandalay          332     332        332     332           332         332   \n",
       "Naypyitaw         328     328        328     328           328         328   \n",
       "Yangon            340     340        340     340           340         340   \n",
       "\n",
       "           quantity  tax_5%  total  date  time  payment  cogs  \\\n",
       "City                                                            \n",
       "Mandalay        332     332    332   332   332      332   332   \n",
       "Naypyitaw       328     328    328   328   328      328   328   \n",
       "Yangon          340     340    340   340   340      340   340   \n",
       "\n",
       "           gross margin percentage  gross_income  rating  date2  \n",
       "City                                                             \n",
       "Mandalay                       332           332     332    332  \n",
       "Naypyitaw                      328           328     328    328  \n",
       "Yangon                         340           340     340    340  "
      ]
     },
     "execution_count": 57,
     "metadata": {},
     "output_type": "execute_result"
    }
   ],
   "source": [
    "#Menampilkan data dari 'City'\n",
    "df_branch = df.groupby('City').count()\n",
    "df_branch\n",
    "\n"
   ]
  },
  {
   "cell_type": "code",
   "execution_count": 58,
   "metadata": {},
   "outputs": [
    {
     "data": {
      "text/html": [
       "<div>\n",
       "<style scoped>\n",
       "    .dataframe tbody tr th:only-of-type {\n",
       "        vertical-align: middle;\n",
       "    }\n",
       "\n",
       "    .dataframe tbody tr th {\n",
       "        vertical-align: top;\n",
       "    }\n",
       "\n",
       "    .dataframe thead th {\n",
       "        text-align: right;\n",
       "    }\n",
       "</style>\n",
       "<table border=\"1\" class=\"dataframe\">\n",
       "  <thead>\n",
       "    <tr style=\"text-align: right;\">\n",
       "      <th></th>\n",
       "      <th>City</th>\n",
       "      <th>gross_income</th>\n",
       "    </tr>\n",
       "  </thead>\n",
       "  <tbody>\n",
       "    <tr>\n",
       "      <th>0</th>\n",
       "      <td>Naypyitaw</td>\n",
       "      <td>5265.1765</td>\n",
       "    </tr>\n",
       "    <tr>\n",
       "      <th>1</th>\n",
       "      <td>Yangon</td>\n",
       "      <td>5057.1605</td>\n",
       "    </tr>\n",
       "    <tr>\n",
       "      <th>2</th>\n",
       "      <td>Mandalay</td>\n",
       "      <td>5057.0320</td>\n",
       "    </tr>\n",
       "  </tbody>\n",
       "</table>\n",
       "</div>"
      ],
      "text/plain": [
       "        City  gross_income\n",
       "0  Naypyitaw     5265.1765\n",
       "1     Yangon     5057.1605\n",
       "2   Mandalay     5057.0320"
      ]
     },
     "execution_count": 58,
     "metadata": {},
     "output_type": "execute_result"
    }
   ],
   "source": [
    "#Menampilkan 'gross_income' dari setiap 'City'\n",
    "profit_city = df.groupby('City')['gross_income'].sum().sort_values(ascending=False).reset_index()\n",
    "profit_city"
   ]
  },
  {
   "cell_type": "code",
   "execution_count": 59,
   "metadata": {},
   "outputs": [
    {
     "name": "stdout",
     "output_type": "stream",
     "text": [
      "Kota yang memiliki keuntungan terbesar: Naypyitaw by 5265.1765 keuntungan kotor\n"
     ]
    }
   ],
   "source": [
    "#Menampilkan kota yang memiliki keuntungan terbesar\n",
    "gross_income = df.groupby(['City'])['gross_income'].sum()\n",
    "gross_income_max = gross_income.sort_values(ascending=False).reset_index()\n",
    "print (f'Kota yang memiliki keuntungan terbesar: {gross_income_max.values[0,0]} by {gross_income_max.values[0,1]} keuntungan kotor')\n"
   ]
  },
  {
   "cell_type": "markdown",
   "metadata": {},
   "source": [
    "Setelah mengetahui kota mana yang memiliki keuntungan terbesar, selanjutnya kita akan melakukan analisa terhadap produk yang mendapatkan keuntungan terbesar dalam penjualan."
   ]
  },
  {
   "cell_type": "code",
   "execution_count": 60,
   "metadata": {},
   "outputs": [
    {
     "data": {
      "text/html": [
       "<div>\n",
       "<style scoped>\n",
       "    .dataframe tbody tr th:only-of-type {\n",
       "        vertical-align: middle;\n",
       "    }\n",
       "\n",
       "    .dataframe tbody tr th {\n",
       "        vertical-align: top;\n",
       "    }\n",
       "\n",
       "    .dataframe thead th {\n",
       "        text-align: right;\n",
       "    }\n",
       "</style>\n",
       "<table border=\"1\" class=\"dataframe\">\n",
       "  <thead>\n",
       "    <tr style=\"text-align: right;\">\n",
       "      <th></th>\n",
       "      <th>product_line</th>\n",
       "      <th>gross_income</th>\n",
       "    </tr>\n",
       "  </thead>\n",
       "  <tbody>\n",
       "    <tr>\n",
       "      <th>0</th>\n",
       "      <td>Food and beverages</td>\n",
       "      <td>2673.5640</td>\n",
       "    </tr>\n",
       "    <tr>\n",
       "      <th>1</th>\n",
       "      <td>Sports and travel</td>\n",
       "      <td>2624.8965</td>\n",
       "    </tr>\n",
       "    <tr>\n",
       "      <th>2</th>\n",
       "      <td>Electronic accessories</td>\n",
       "      <td>2587.5015</td>\n",
       "    </tr>\n",
       "    <tr>\n",
       "      <th>3</th>\n",
       "      <td>Fashion accessories</td>\n",
       "      <td>2585.9950</td>\n",
       "    </tr>\n",
       "    <tr>\n",
       "      <th>4</th>\n",
       "      <td>Home and lifestyle</td>\n",
       "      <td>2564.8530</td>\n",
       "    </tr>\n",
       "    <tr>\n",
       "      <th>5</th>\n",
       "      <td>Health and beauty</td>\n",
       "      <td>2342.5590</td>\n",
       "    </tr>\n",
       "  </tbody>\n",
       "</table>\n",
       "</div>"
      ],
      "text/plain": [
       "             product_line  gross_income\n",
       "0      Food and beverages     2673.5640\n",
       "1       Sports and travel     2624.8965\n",
       "2  Electronic accessories     2587.5015\n",
       "3     Fashion accessories     2585.9950\n",
       "4      Home and lifestyle     2564.8530\n",
       "5       Health and beauty     2342.5590"
      ]
     },
     "execution_count": 60,
     "metadata": {},
     "output_type": "execute_result"
    }
   ],
   "source": [
    "#Menampilkan gross_income dari setiap produk\n",
    "profit_product = df.groupby('product_line')['gross_income'].sum().sort_values(ascending=False).reset_index()\n",
    "profit_product\n"
   ]
  },
  {
   "cell_type": "markdown",
   "metadata": {},
   "source": [
    "Dari hasil tabel diatas bahwa product Food & Beverages memiliki keuntungan paling besar diantara 5 product lainnya.\n",
    "\n",
    "Berikut penggambaran grafik chart untuk produk yang paling menguntungkan dalam setiap kategori."
   ]
  },
  {
   "cell_type": "code",
   "execution_count": 61,
   "metadata": {},
   "outputs": [
    {
     "data": {
      "application/vnd.plotly.v1+json": {
       "config": {
        "plotlyServerURL": "https://plot.ly"
       },
       "data": [
        {
         "alignmentgroup": "True",
         "hovertemplate": "color=Food and beverages<br>x=%{x}<br>y=%{y}<extra></extra>",
         "legendgroup": "Food and beverages",
         "marker": {
          "color": "#636efa",
          "pattern": {
           "shape": ""
          }
         },
         "name": "Food and beverages",
         "offsetgroup": "Food and beverages",
         "orientation": "v",
         "showlegend": true,
         "textposition": "auto",
         "type": "bar",
         "x": [
          "Food and beverages"
         ],
         "xaxis": "x",
         "y": [
          2673.564
         ],
         "yaxis": "y"
        },
        {
         "alignmentgroup": "True",
         "hovertemplate": "color=Sports and travel<br>x=%{x}<br>y=%{y}<extra></extra>",
         "legendgroup": "Sports and travel",
         "marker": {
          "color": "#EF553B",
          "pattern": {
           "shape": ""
          }
         },
         "name": "Sports and travel",
         "offsetgroup": "Sports and travel",
         "orientation": "v",
         "showlegend": true,
         "textposition": "auto",
         "type": "bar",
         "x": [
          "Sports and travel"
         ],
         "xaxis": "x",
         "y": [
          2624.8965
         ],
         "yaxis": "y"
        },
        {
         "alignmentgroup": "True",
         "hovertemplate": "color=Electronic accessories<br>x=%{x}<br>y=%{y}<extra></extra>",
         "legendgroup": "Electronic accessories",
         "marker": {
          "color": "#00cc96",
          "pattern": {
           "shape": ""
          }
         },
         "name": "Electronic accessories",
         "offsetgroup": "Electronic accessories",
         "orientation": "v",
         "showlegend": true,
         "textposition": "auto",
         "type": "bar",
         "x": [
          "Electronic accessories"
         ],
         "xaxis": "x",
         "y": [
          2587.5015
         ],
         "yaxis": "y"
        },
        {
         "alignmentgroup": "True",
         "hovertemplate": "color=Fashion accessories<br>x=%{x}<br>y=%{y}<extra></extra>",
         "legendgroup": "Fashion accessories",
         "marker": {
          "color": "#ab63fa",
          "pattern": {
           "shape": ""
          }
         },
         "name": "Fashion accessories",
         "offsetgroup": "Fashion accessories",
         "orientation": "v",
         "showlegend": true,
         "textposition": "auto",
         "type": "bar",
         "x": [
          "Fashion accessories"
         ],
         "xaxis": "x",
         "y": [
          2585.995
         ],
         "yaxis": "y"
        },
        {
         "alignmentgroup": "True",
         "hovertemplate": "color=Home and lifestyle<br>x=%{x}<br>y=%{y}<extra></extra>",
         "legendgroup": "Home and lifestyle",
         "marker": {
          "color": "#FFA15A",
          "pattern": {
           "shape": ""
          }
         },
         "name": "Home and lifestyle",
         "offsetgroup": "Home and lifestyle",
         "orientation": "v",
         "showlegend": true,
         "textposition": "auto",
         "type": "bar",
         "x": [
          "Home and lifestyle"
         ],
         "xaxis": "x",
         "y": [
          2564.853
         ],
         "yaxis": "y"
        },
        {
         "alignmentgroup": "True",
         "hovertemplate": "color=Health and beauty<br>x=%{x}<br>y=%{y}<extra></extra>",
         "legendgroup": "Health and beauty",
         "marker": {
          "color": "#19d3f3",
          "pattern": {
           "shape": ""
          }
         },
         "name": "Health and beauty",
         "offsetgroup": "Health and beauty",
         "orientation": "v",
         "showlegend": true,
         "textposition": "auto",
         "type": "bar",
         "x": [
          "Health and beauty"
         ],
         "xaxis": "x",
         "y": [
          2342.559
         ],
         "yaxis": "y"
        }
       ],
       "layout": {
        "barmode": "relative",
        "legend": {
         "title": {
          "text": "color"
         },
         "tracegroupgap": 0
        },
        "margin": {
         "t": 60
        },
        "template": {
         "data": {
          "bar": [
           {
            "error_x": {
             "color": "#2a3f5f"
            },
            "error_y": {
             "color": "#2a3f5f"
            },
            "marker": {
             "line": {
              "color": "#E5ECF6",
              "width": 0.5
             },
             "pattern": {
              "fillmode": "overlay",
              "size": 10,
              "solidity": 0.2
             }
            },
            "type": "bar"
           }
          ],
          "barpolar": [
           {
            "marker": {
             "line": {
              "color": "#E5ECF6",
              "width": 0.5
             },
             "pattern": {
              "fillmode": "overlay",
              "size": 10,
              "solidity": 0.2
             }
            },
            "type": "barpolar"
           }
          ],
          "carpet": [
           {
            "aaxis": {
             "endlinecolor": "#2a3f5f",
             "gridcolor": "white",
             "linecolor": "white",
             "minorgridcolor": "white",
             "startlinecolor": "#2a3f5f"
            },
            "baxis": {
             "endlinecolor": "#2a3f5f",
             "gridcolor": "white",
             "linecolor": "white",
             "minorgridcolor": "white",
             "startlinecolor": "#2a3f5f"
            },
            "type": "carpet"
           }
          ],
          "choropleth": [
           {
            "colorbar": {
             "outlinewidth": 0,
             "ticks": ""
            },
            "type": "choropleth"
           }
          ],
          "contour": [
           {
            "colorbar": {
             "outlinewidth": 0,
             "ticks": ""
            },
            "colorscale": [
             [
              0,
              "#0d0887"
             ],
             [
              0.1111111111111111,
              "#46039f"
             ],
             [
              0.2222222222222222,
              "#7201a8"
             ],
             [
              0.3333333333333333,
              "#9c179e"
             ],
             [
              0.4444444444444444,
              "#bd3786"
             ],
             [
              0.5555555555555556,
              "#d8576b"
             ],
             [
              0.6666666666666666,
              "#ed7953"
             ],
             [
              0.7777777777777778,
              "#fb9f3a"
             ],
             [
              0.8888888888888888,
              "#fdca26"
             ],
             [
              1,
              "#f0f921"
             ]
            ],
            "type": "contour"
           }
          ],
          "contourcarpet": [
           {
            "colorbar": {
             "outlinewidth": 0,
             "ticks": ""
            },
            "type": "contourcarpet"
           }
          ],
          "heatmap": [
           {
            "colorbar": {
             "outlinewidth": 0,
             "ticks": ""
            },
            "colorscale": [
             [
              0,
              "#0d0887"
             ],
             [
              0.1111111111111111,
              "#46039f"
             ],
             [
              0.2222222222222222,
              "#7201a8"
             ],
             [
              0.3333333333333333,
              "#9c179e"
             ],
             [
              0.4444444444444444,
              "#bd3786"
             ],
             [
              0.5555555555555556,
              "#d8576b"
             ],
             [
              0.6666666666666666,
              "#ed7953"
             ],
             [
              0.7777777777777778,
              "#fb9f3a"
             ],
             [
              0.8888888888888888,
              "#fdca26"
             ],
             [
              1,
              "#f0f921"
             ]
            ],
            "type": "heatmap"
           }
          ],
          "heatmapgl": [
           {
            "colorbar": {
             "outlinewidth": 0,
             "ticks": ""
            },
            "colorscale": [
             [
              0,
              "#0d0887"
             ],
             [
              0.1111111111111111,
              "#46039f"
             ],
             [
              0.2222222222222222,
              "#7201a8"
             ],
             [
              0.3333333333333333,
              "#9c179e"
             ],
             [
              0.4444444444444444,
              "#bd3786"
             ],
             [
              0.5555555555555556,
              "#d8576b"
             ],
             [
              0.6666666666666666,
              "#ed7953"
             ],
             [
              0.7777777777777778,
              "#fb9f3a"
             ],
             [
              0.8888888888888888,
              "#fdca26"
             ],
             [
              1,
              "#f0f921"
             ]
            ],
            "type": "heatmapgl"
           }
          ],
          "histogram": [
           {
            "marker": {
             "pattern": {
              "fillmode": "overlay",
              "size": 10,
              "solidity": 0.2
             }
            },
            "type": "histogram"
           }
          ],
          "histogram2d": [
           {
            "colorbar": {
             "outlinewidth": 0,
             "ticks": ""
            },
            "colorscale": [
             [
              0,
              "#0d0887"
             ],
             [
              0.1111111111111111,
              "#46039f"
             ],
             [
              0.2222222222222222,
              "#7201a8"
             ],
             [
              0.3333333333333333,
              "#9c179e"
             ],
             [
              0.4444444444444444,
              "#bd3786"
             ],
             [
              0.5555555555555556,
              "#d8576b"
             ],
             [
              0.6666666666666666,
              "#ed7953"
             ],
             [
              0.7777777777777778,
              "#fb9f3a"
             ],
             [
              0.8888888888888888,
              "#fdca26"
             ],
             [
              1,
              "#f0f921"
             ]
            ],
            "type": "histogram2d"
           }
          ],
          "histogram2dcontour": [
           {
            "colorbar": {
             "outlinewidth": 0,
             "ticks": ""
            },
            "colorscale": [
             [
              0,
              "#0d0887"
             ],
             [
              0.1111111111111111,
              "#46039f"
             ],
             [
              0.2222222222222222,
              "#7201a8"
             ],
             [
              0.3333333333333333,
              "#9c179e"
             ],
             [
              0.4444444444444444,
              "#bd3786"
             ],
             [
              0.5555555555555556,
              "#d8576b"
             ],
             [
              0.6666666666666666,
              "#ed7953"
             ],
             [
              0.7777777777777778,
              "#fb9f3a"
             ],
             [
              0.8888888888888888,
              "#fdca26"
             ],
             [
              1,
              "#f0f921"
             ]
            ],
            "type": "histogram2dcontour"
           }
          ],
          "mesh3d": [
           {
            "colorbar": {
             "outlinewidth": 0,
             "ticks": ""
            },
            "type": "mesh3d"
           }
          ],
          "parcoords": [
           {
            "line": {
             "colorbar": {
              "outlinewidth": 0,
              "ticks": ""
             }
            },
            "type": "parcoords"
           }
          ],
          "pie": [
           {
            "automargin": true,
            "type": "pie"
           }
          ],
          "scatter": [
           {
            "fillpattern": {
             "fillmode": "overlay",
             "size": 10,
             "solidity": 0.2
            },
            "type": "scatter"
           }
          ],
          "scatter3d": [
           {
            "line": {
             "colorbar": {
              "outlinewidth": 0,
              "ticks": ""
             }
            },
            "marker": {
             "colorbar": {
              "outlinewidth": 0,
              "ticks": ""
             }
            },
            "type": "scatter3d"
           }
          ],
          "scattercarpet": [
           {
            "marker": {
             "colorbar": {
              "outlinewidth": 0,
              "ticks": ""
             }
            },
            "type": "scattercarpet"
           }
          ],
          "scattergeo": [
           {
            "marker": {
             "colorbar": {
              "outlinewidth": 0,
              "ticks": ""
             }
            },
            "type": "scattergeo"
           }
          ],
          "scattergl": [
           {
            "marker": {
             "colorbar": {
              "outlinewidth": 0,
              "ticks": ""
             }
            },
            "type": "scattergl"
           }
          ],
          "scattermapbox": [
           {
            "marker": {
             "colorbar": {
              "outlinewidth": 0,
              "ticks": ""
             }
            },
            "type": "scattermapbox"
           }
          ],
          "scatterpolar": [
           {
            "marker": {
             "colorbar": {
              "outlinewidth": 0,
              "ticks": ""
             }
            },
            "type": "scatterpolar"
           }
          ],
          "scatterpolargl": [
           {
            "marker": {
             "colorbar": {
              "outlinewidth": 0,
              "ticks": ""
             }
            },
            "type": "scatterpolargl"
           }
          ],
          "scatterternary": [
           {
            "marker": {
             "colorbar": {
              "outlinewidth": 0,
              "ticks": ""
             }
            },
            "type": "scatterternary"
           }
          ],
          "surface": [
           {
            "colorbar": {
             "outlinewidth": 0,
             "ticks": ""
            },
            "colorscale": [
             [
              0,
              "#0d0887"
             ],
             [
              0.1111111111111111,
              "#46039f"
             ],
             [
              0.2222222222222222,
              "#7201a8"
             ],
             [
              0.3333333333333333,
              "#9c179e"
             ],
             [
              0.4444444444444444,
              "#bd3786"
             ],
             [
              0.5555555555555556,
              "#d8576b"
             ],
             [
              0.6666666666666666,
              "#ed7953"
             ],
             [
              0.7777777777777778,
              "#fb9f3a"
             ],
             [
              0.8888888888888888,
              "#fdca26"
             ],
             [
              1,
              "#f0f921"
             ]
            ],
            "type": "surface"
           }
          ],
          "table": [
           {
            "cells": {
             "fill": {
              "color": "#EBF0F8"
             },
             "line": {
              "color": "white"
             }
            },
            "header": {
             "fill": {
              "color": "#C8D4E3"
             },
             "line": {
              "color": "white"
             }
            },
            "type": "table"
           }
          ]
         },
         "layout": {
          "annotationdefaults": {
           "arrowcolor": "#2a3f5f",
           "arrowhead": 0,
           "arrowwidth": 1
          },
          "autotypenumbers": "strict",
          "coloraxis": {
           "colorbar": {
            "outlinewidth": 0,
            "ticks": ""
           }
          },
          "colorscale": {
           "diverging": [
            [
             0,
             "#8e0152"
            ],
            [
             0.1,
             "#c51b7d"
            ],
            [
             0.2,
             "#de77ae"
            ],
            [
             0.3,
             "#f1b6da"
            ],
            [
             0.4,
             "#fde0ef"
            ],
            [
             0.5,
             "#f7f7f7"
            ],
            [
             0.6,
             "#e6f5d0"
            ],
            [
             0.7,
             "#b8e186"
            ],
            [
             0.8,
             "#7fbc41"
            ],
            [
             0.9,
             "#4d9221"
            ],
            [
             1,
             "#276419"
            ]
           ],
           "sequential": [
            [
             0,
             "#0d0887"
            ],
            [
             0.1111111111111111,
             "#46039f"
            ],
            [
             0.2222222222222222,
             "#7201a8"
            ],
            [
             0.3333333333333333,
             "#9c179e"
            ],
            [
             0.4444444444444444,
             "#bd3786"
            ],
            [
             0.5555555555555556,
             "#d8576b"
            ],
            [
             0.6666666666666666,
             "#ed7953"
            ],
            [
             0.7777777777777778,
             "#fb9f3a"
            ],
            [
             0.8888888888888888,
             "#fdca26"
            ],
            [
             1,
             "#f0f921"
            ]
           ],
           "sequentialminus": [
            [
             0,
             "#0d0887"
            ],
            [
             0.1111111111111111,
             "#46039f"
            ],
            [
             0.2222222222222222,
             "#7201a8"
            ],
            [
             0.3333333333333333,
             "#9c179e"
            ],
            [
             0.4444444444444444,
             "#bd3786"
            ],
            [
             0.5555555555555556,
             "#d8576b"
            ],
            [
             0.6666666666666666,
             "#ed7953"
            ],
            [
             0.7777777777777778,
             "#fb9f3a"
            ],
            [
             0.8888888888888888,
             "#fdca26"
            ],
            [
             1,
             "#f0f921"
            ]
           ]
          },
          "colorway": [
           "#636efa",
           "#EF553B",
           "#00cc96",
           "#ab63fa",
           "#FFA15A",
           "#19d3f3",
           "#FF6692",
           "#B6E880",
           "#FF97FF",
           "#FECB52"
          ],
          "font": {
           "color": "#2a3f5f"
          },
          "geo": {
           "bgcolor": "white",
           "lakecolor": "white",
           "landcolor": "#E5ECF6",
           "showlakes": true,
           "showland": true,
           "subunitcolor": "white"
          },
          "hoverlabel": {
           "align": "left"
          },
          "hovermode": "closest",
          "mapbox": {
           "style": "light"
          },
          "paper_bgcolor": "white",
          "plot_bgcolor": "#E5ECF6",
          "polar": {
           "angularaxis": {
            "gridcolor": "white",
            "linecolor": "white",
            "ticks": ""
           },
           "bgcolor": "#E5ECF6",
           "radialaxis": {
            "gridcolor": "white",
            "linecolor": "white",
            "ticks": ""
           }
          },
          "scene": {
           "xaxis": {
            "backgroundcolor": "#E5ECF6",
            "gridcolor": "white",
            "gridwidth": 2,
            "linecolor": "white",
            "showbackground": true,
            "ticks": "",
            "zerolinecolor": "white"
           },
           "yaxis": {
            "backgroundcolor": "#E5ECF6",
            "gridcolor": "white",
            "gridwidth": 2,
            "linecolor": "white",
            "showbackground": true,
            "ticks": "",
            "zerolinecolor": "white"
           },
           "zaxis": {
            "backgroundcolor": "#E5ECF6",
            "gridcolor": "white",
            "gridwidth": 2,
            "linecolor": "white",
            "showbackground": true,
            "ticks": "",
            "zerolinecolor": "white"
           }
          },
          "shapedefaults": {
           "line": {
            "color": "#2a3f5f"
           }
          },
          "ternary": {
           "aaxis": {
            "gridcolor": "white",
            "linecolor": "white",
            "ticks": ""
           },
           "baxis": {
            "gridcolor": "white",
            "linecolor": "white",
            "ticks": ""
           },
           "bgcolor": "#E5ECF6",
           "caxis": {
            "gridcolor": "white",
            "linecolor": "white",
            "ticks": ""
           }
          },
          "title": {
           "x": 0.05
          },
          "xaxis": {
           "automargin": true,
           "gridcolor": "white",
           "linecolor": "white",
           "ticks": "",
           "title": {
            "standoff": 15
           },
           "zerolinecolor": "white",
           "zerolinewidth": 2
          },
          "yaxis": {
           "automargin": true,
           "gridcolor": "white",
           "linecolor": "white",
           "ticks": "",
           "title": {
            "standoff": 15
           },
           "zerolinecolor": "white",
           "zerolinewidth": 2
          }
         }
        },
        "xaxis": {
         "anchor": "y",
         "domain": [
          0,
          1
         ],
         "title": {
          "text": "x"
         }
        },
        "yaxis": {
         "anchor": "x",
         "domain": [
          0,
          1
         ],
         "title": {
          "text": "y"
         }
        }
       }
      }
     },
     "metadata": {},
     "output_type": "display_data"
    }
   ],
   "source": [
    "#Menampilkan grafik bar chart berdasarkan 'gross income' dari 'product_line'\n",
    "most_profit_product_bar = df.groupby('product_line')['gross_income'].sum().reset_index()\n",
    "px.bar( x=profit_product.product_line,y=profit_product.gross_income, color=profit_product.product_line )\n"
   ]
  },
  {
   "cell_type": "code",
   "execution_count": 62,
   "metadata": {},
   "outputs": [
    {
     "data": {
      "application/vnd.plotly.v1+json": {
       "config": {
        "plotlyServerURL": "https://plot.ly"
       },
       "data": [
        {
         "alignmentgroup": "True",
         "bingroup": "x",
         "histfunc": "sum",
         "hovertemplate": "City=Mandalay<br>time=%{x}<br>sum of quantity=%{y}<extra></extra>",
         "legendgroup": "Mandalay",
         "marker": {
          "color": "#636efa",
          "pattern": {
           "shape": ""
          }
         },
         "name": "Mandalay",
         "offsetgroup": "Mandalay",
         "orientation": "v",
         "showlegend": true,
         "type": "histogram",
         "x": [
          11,
          17,
          18,
          12,
          11,
          19,
          19,
          18,
          12,
          11,
          13,
          20,
          14,
          18,
          18,
          15,
          10,
          20,
          20,
          19,
          19,
          16,
          16,
          10,
          10,
          13,
          16,
          17,
          20,
          10,
          12,
          14,
          13,
          15,
          17,
          19,
          15,
          12,
          17,
          16,
          12,
          13,
          14,
          13,
          11,
          20,
          20,
          10,
          13,
          13,
          18,
          12,
          19,
          18,
          13,
          15,
          13,
          19,
          13,
          13,
          13,
          19,
          12,
          14,
          11,
          15,
          11,
          15,
          16,
          19,
          14,
          11,
          10,
          11,
          15,
          19,
          11,
          12,
          19,
          18,
          10,
          13,
          20,
          19,
          11,
          17,
          18,
          10,
          13,
          19,
          16,
          10,
          16,
          15,
          12,
          20,
          19,
          10,
          14,
          13,
          16,
          19,
          19,
          13,
          15,
          10,
          11,
          14,
          16,
          13,
          10,
          13,
          19,
          20,
          11,
          11,
          14,
          11,
          14,
          16,
          17,
          18,
          19,
          11,
          20,
          14,
          20,
          17,
          19,
          12,
          10,
          18,
          14,
          19,
          17,
          13,
          17,
          13,
          17,
          19,
          20,
          18,
          11,
          14,
          13,
          11,
          11,
          20,
          14,
          20,
          11,
          20,
          19,
          18,
          13,
          15,
          19,
          10,
          14,
          16,
          15,
          18,
          10,
          11,
          14,
          13,
          19,
          14,
          10,
          17,
          12,
          16,
          14,
          13,
          15,
          19,
          17,
          16,
          18,
          19,
          19,
          12,
          10,
          14,
          18,
          16,
          11,
          16,
          15,
          12,
          20,
          20,
          19,
          13,
          15,
          12,
          10,
          11,
          20,
          11,
          19,
          19,
          10,
          13,
          19,
          12,
          11,
          18,
          18,
          18,
          18,
          14,
          19,
          12,
          13,
          15,
          11,
          19,
          10,
          15,
          14,
          10,
          20,
          19,
          16,
          13,
          20,
          12,
          14,
          15,
          17,
          13,
          17,
          10,
          18,
          11,
          14,
          13,
          18,
          11,
          15,
          20,
          13,
          15,
          15,
          20,
          11,
          15,
          14,
          10,
          15,
          13,
          14,
          12,
          14,
          18,
          13,
          12,
          18,
          17,
          17,
          19,
          15,
          19,
          19,
          18,
          19,
          19,
          18,
          11,
          12,
          18,
          20,
          11,
          12,
          19,
          18,
          14,
          17,
          15,
          13,
          18,
          20,
          19,
          14,
          13,
          19,
          20,
          14,
          15,
          17,
          15,
          10,
          19,
          17,
          10,
          19,
          19,
          12,
          19,
          19,
          15,
          15,
          17,
          20,
          18,
          11,
          18,
          13,
          10,
          13,
          18,
          15,
          18,
          12,
          12,
          19,
          18,
          12,
          11,
          14,
          15,
          14,
          19,
          15,
          19,
          16,
          15,
          11,
          18,
          13,
          18
         ],
         "xaxis": "x",
         "y": [
          4,
          5,
          5,
          4,
          10,
          2,
          7,
          4,
          2,
          9,
          7,
          7,
          5,
          4,
          5,
          3,
          10,
          10,
          3,
          1,
          4,
          6,
          6,
          7,
          1,
          4,
          8,
          5,
          3,
          9,
          9,
          6,
          3,
          8,
          10,
          2,
          6,
          8,
          8,
          1,
          9,
          8,
          8,
          2,
          10,
          5,
          1,
          1,
          3,
          6,
          3,
          8,
          2,
          5,
          6,
          7,
          3,
          5,
          7,
          10,
          3,
          6,
          5,
          10,
          4,
          7,
          10,
          1,
          2,
          9,
          4,
          3,
          2,
          3,
          9,
          7,
          3,
          3,
          3,
          8,
          6,
          6,
          9,
          5,
          4,
          1,
          4,
          9,
          3,
          2,
          2,
          6,
          5,
          4,
          4,
          4,
          4,
          9,
          2,
          10,
          10,
          8,
          4,
          6,
          4,
          5,
          10,
          10,
          9,
          6,
          9,
          9,
          2,
          8,
          9,
          7,
          10,
          7,
          7,
          1,
          2,
          6,
          6,
          1,
          1,
          9,
          10,
          1,
          8,
          10,
          10,
          6,
          7,
          2,
          5,
          3,
          1,
          9,
          8,
          8,
          6,
          1,
          2,
          8,
          1,
          10,
          7,
          4,
          2,
          1,
          10,
          7,
          7,
          3,
          9,
          9,
          10,
          8,
          10,
          4,
          10,
          9,
          4,
          1,
          5,
          6,
          7,
          9,
          3,
          1,
          5,
          8,
          8,
          4,
          1,
          9,
          2,
          1,
          4,
          2,
          7,
          3,
          6,
          5,
          7,
          5,
          10,
          1,
          3,
          4,
          6,
          4,
          9,
          2,
          8,
          7,
          7,
          2,
          1,
          4,
          1,
          7,
          1,
          8,
          6,
          2,
          2,
          4,
          6,
          1,
          7,
          2,
          2,
          5,
          7,
          1,
          9,
          5,
          2,
          6,
          8,
          7,
          1,
          5,
          2,
          3,
          2,
          9,
          8,
          1,
          9,
          3,
          10,
          10,
          1,
          10,
          4,
          3,
          3,
          2,
          10,
          4,
          7,
          6,
          6,
          7,
          2,
          6,
          4,
          10,
          7,
          6,
          7,
          9,
          10,
          2,
          6,
          9,
          4,
          9,
          6,
          5,
          9,
          8,
          4,
          4,
          3,
          3,
          10,
          9,
          6,
          4,
          4,
          6,
          5,
          1,
          4,
          8,
          4,
          10,
          3,
          5,
          9,
          6,
          9,
          5,
          1,
          1,
          6,
          9,
          6,
          2,
          3,
          9,
          10,
          4,
          8,
          10,
          8,
          3,
          3,
          10,
          5,
          3,
          3,
          10,
          3,
          10,
          9,
          3,
          4,
          3,
          2,
          6,
          2,
          3,
          8,
          8,
          10,
          6,
          2,
          8,
          8,
          4,
          8,
          5,
          6,
          5,
          3,
          4,
          1,
          5
         ],
         "yaxis": "y"
        },
        {
         "alignmentgroup": "True",
         "bingroup": "x",
         "histfunc": "sum",
         "hovertemplate": "City=Naypyitaw<br>time=%{x}<br>sum of quantity=%{y}<extra></extra>",
         "legendgroup": "Naypyitaw",
         "marker": {
          "color": "#EF553B",
          "pattern": {
           "shape": ""
          }
         },
         "name": "Naypyitaw",
         "offsetgroup": "Naypyitaw",
         "orientation": "v",
         "showlegend": true,
         "type": "histogram",
         "x": [
          20,
          16,
          13,
          15,
          15,
          16,
          12,
          15,
          10,
          12,
          14,
          12,
          16,
          19,
          19,
          16,
          11,
          10,
          20,
          18,
          11,
          12,
          14,
          13,
          13,
          11,
          15,
          18,
          10,
          11,
          12,
          20,
          11,
          15,
          14,
          15,
          15,
          18,
          17,
          10,
          17,
          17,
          13,
          10,
          18,
          19,
          18,
          18,
          17,
          10,
          11,
          12,
          19,
          13,
          14,
          11,
          20,
          16,
          20,
          19,
          10,
          11,
          13,
          10,
          17,
          17,
          18,
          20,
          12,
          16,
          15,
          19,
          15,
          19,
          14,
          11,
          15,
          16,
          15,
          12,
          14,
          13,
          14,
          10,
          16,
          14,
          12,
          11,
          20,
          11,
          20,
          15,
          20,
          15,
          15,
          15,
          19,
          18,
          20,
          11,
          19,
          13,
          14,
          10,
          16,
          17,
          16,
          10,
          16,
          15,
          12,
          12,
          19,
          14,
          13,
          10,
          11,
          12,
          16,
          10,
          20,
          18,
          12,
          10,
          15,
          14,
          18,
          19,
          19,
          15,
          18,
          12,
          18,
          13,
          17,
          15,
          10,
          16,
          14,
          14,
          12,
          18,
          18,
          14,
          17,
          18,
          10,
          12,
          10,
          18,
          13,
          13,
          17,
          10,
          14,
          12,
          14,
          15,
          12,
          13,
          12,
          17,
          16,
          16,
          13,
          17,
          18,
          19,
          18,
          17,
          17,
          11,
          14,
          14,
          16,
          10,
          19,
          19,
          18,
          18,
          16,
          12,
          17,
          10,
          19,
          13,
          13,
          13,
          19,
          16,
          15,
          16,
          17,
          19,
          12,
          12,
          13,
          20,
          15,
          10,
          14,
          13,
          19,
          14,
          20,
          12,
          18,
          19,
          19,
          20,
          20,
          19,
          10,
          15,
          19,
          11,
          13,
          10,
          20,
          10,
          17,
          13,
          19,
          10,
          19,
          13,
          11,
          13,
          19,
          16,
          14,
          17,
          16,
          20,
          20,
          19,
          13,
          11,
          11,
          12,
          14,
          10,
          13,
          13,
          15,
          14,
          17,
          18,
          20,
          19,
          12,
          17,
          14,
          10,
          19,
          15,
          12,
          17,
          11,
          17,
          11,
          10,
          14,
          17,
          19,
          14,
          20,
          19,
          16,
          19,
          19,
          16,
          18,
          11,
          15,
          13,
          13,
          13,
          15,
          10,
          13,
          13,
          10,
          20,
          19,
          12,
          17,
          13,
          12,
          10,
          16,
          15,
          19,
          12,
          16,
          20,
          17,
          17,
          15,
          20,
          16,
          18,
          11,
          10,
          10,
          20,
          20,
          10,
          15,
          20,
          10,
          15,
          13,
          12,
          18,
          16,
          20,
          15,
          12,
          16,
          14,
          13,
          10,
          10,
          14,
          17,
          15,
          19
         ],
         "xaxis": "x",
         "y": [
          8,
          1,
          10,
          1,
          4,
          1,
          1,
          9,
          8,
          10,
          5,
          10,
          8,
          2,
          10,
          4,
          1,
          1,
          1,
          3,
          3,
          7,
          8,
          10,
          7,
          10,
          2,
          1,
          4,
          6,
          6,
          7,
          6,
          10,
          10,
          5,
          7,
          6,
          6,
          1,
          1,
          5,
          1,
          1,
          5,
          9,
          7,
          5,
          7,
          6,
          10,
          7,
          8,
          7,
          10,
          2,
          10,
          2,
          7,
          4,
          5,
          8,
          5,
          3,
          6,
          8,
          5,
          4,
          1,
          1,
          8,
          8,
          5,
          8,
          6,
          9,
          2,
          10,
          2,
          3,
          4,
          7,
          9,
          9,
          10,
          1,
          8,
          2,
          1,
          6,
          8,
          5,
          5,
          4,
          9,
          1,
          7,
          10,
          3,
          7,
          7,
          9,
          6,
          1,
          7,
          8,
          10,
          10,
          7,
          10,
          9,
          5,
          7,
          10,
          6,
          6,
          7,
          2,
          6,
          1,
          10,
          2,
          2,
          7,
          1,
          6,
          8,
          2,
          10,
          9,
          2,
          2,
          4,
          6,
          5,
          5,
          5,
          4,
          2,
          7,
          1,
          5,
          9,
          2,
          10,
          9,
          5,
          6,
          7,
          5,
          4,
          7,
          2,
          9,
          9,
          9,
          1,
          2,
          10,
          1,
          2,
          4,
          10,
          10,
          4,
          10,
          10,
          2,
          6,
          10,
          4,
          4,
          4,
          9,
          10,
          6,
          5,
          4,
          6,
          5,
          7,
          4,
          6,
          1,
          10,
          10,
          10,
          4,
          3,
          6,
          8,
          9,
          9,
          8,
          7,
          10,
          3,
          9,
          1,
          3,
          10,
          8,
          8,
          2,
          3,
          7,
          2,
          1,
          9,
          4,
          3,
          7,
          4,
          8,
          10,
          8,
          5,
          7,
          1,
          7,
          6,
          6,
          8,
          9,
          1,
          9,
          9,
          10,
          2,
          3,
          4,
          7,
          7,
          4,
          6,
          10,
          1,
          5,
          7,
          3,
          9,
          7,
          6,
          1,
          3,
          2,
          4,
          7,
          7,
          3,
          6,
          6,
          10,
          6,
          9,
          4,
          4,
          7,
          10,
          3,
          10,
          5,
          1,
          1,
          5,
          8,
          4,
          9,
          4,
          5,
          9,
          2,
          7,
          1,
          1,
          10,
          3,
          3,
          7,
          1,
          4,
          1,
          4,
          6,
          2,
          8,
          10,
          5,
          8,
          7,
          4,
          1,
          8,
          3,
          4,
          6,
          3,
          2,
          1,
          9,
          4,
          7,
          5,
          5,
          3,
          8,
          10,
          1,
          1,
          2,
          6,
          8,
          10,
          1,
          2,
          5,
          10,
          1,
          4,
          5,
          10,
          8,
          2,
          8,
          8,
          1,
          1,
          2
         ],
         "yaxis": "y"
        },
        {
         "alignmentgroup": "True",
         "bingroup": "x",
         "histfunc": "sum",
         "hovertemplate": "City=Yangon<br>time=%{x}<br>sum of quantity=%{y}<extra></extra>",
         "legendgroup": "Yangon",
         "marker": {
          "color": "#00cc96",
          "pattern": {
           "shape": ""
          }
         },
         "name": "Yangon",
         "offsetgroup": "Yangon",
         "orientation": "v",
         "showlegend": true,
         "type": "histogram",
         "x": [
          17,
          13,
          15,
          15,
          13,
          17,
          19,
          18,
          10,
          12,
          11,
          20,
          10,
          15,
          12,
          11,
          14,
          18,
          15,
          15,
          17,
          11,
          15,
          13,
          20,
          19,
          10,
          13,
          12,
          16,
          10,
          10,
          18,
          11,
          17,
          18,
          14,
          17,
          10,
          13,
          18,
          16,
          13,
          11,
          10,
          15,
          10,
          13,
          19,
          18,
          12,
          14,
          18,
          14,
          14,
          18,
          19,
          18,
          11,
          11,
          20,
          14,
          19,
          18,
          16,
          16,
          10,
          14,
          16,
          15,
          20,
          11,
          12,
          12,
          17,
          19,
          20,
          17,
          17,
          18,
          16,
          14,
          16,
          10,
          10,
          18,
          12,
          15,
          12,
          11,
          13,
          15,
          14,
          16,
          12,
          11,
          13,
          12,
          10,
          10,
          11,
          11,
          16,
          14,
          14,
          11,
          12,
          16,
          11,
          18,
          18,
          12,
          15,
          16,
          15,
          20,
          12,
          10,
          11,
          12,
          13,
          11,
          11,
          19,
          15,
          10,
          11,
          15,
          17,
          13,
          19,
          12,
          13,
          18,
          13,
          10,
          17,
          10,
          17,
          13,
          20,
          17,
          15,
          14,
          10,
          20,
          14,
          14,
          15,
          11,
          17,
          15,
          15,
          10,
          17,
          18,
          10,
          16,
          12,
          15,
          11,
          11,
          15,
          17,
          19,
          10,
          15,
          12,
          19,
          17,
          11,
          18,
          10,
          11,
          19,
          16,
          10,
          17,
          14,
          10,
          20,
          13,
          10,
          19,
          15,
          16,
          16,
          11,
          15,
          16,
          16,
          19,
          16,
          15,
          11,
          13,
          12,
          16,
          19,
          15,
          20,
          20,
          13,
          18,
          17,
          20,
          20,
          20,
          14,
          16,
          10,
          20,
          16,
          20,
          16,
          12,
          17,
          14,
          18,
          14,
          12,
          19,
          15,
          11,
          12,
          11,
          10,
          12,
          12,
          14,
          13,
          11,
          14,
          12,
          16,
          14,
          13,
          19,
          13,
          14,
          19,
          13,
          13,
          15,
          16,
          16,
          10,
          18,
          11,
          11,
          19,
          16,
          13,
          12,
          16,
          18,
          20,
          17,
          19,
          20,
          19,
          12,
          10,
          17,
          12,
          13,
          18,
          10,
          19,
          15,
          17,
          15,
          10,
          14,
          17,
          20,
          15,
          18,
          10,
          15,
          15,
          19,
          10,
          18,
          10,
          19,
          18,
          13,
          19,
          19,
          15,
          14,
          20,
          10,
          12,
          18,
          16,
          13,
          10,
          12,
          16,
          12,
          10,
          17,
          11,
          18,
          10,
          12,
          15,
          13,
          12,
          16,
          11,
          17,
          11,
          13,
          18,
          19,
          19,
          16,
          14,
          13,
          18,
          15,
          12,
          17,
          20,
          15,
          18,
          18,
          13,
          11,
          16,
          20,
          17,
          18,
          11,
          15,
          18,
          13
         ],
         "xaxis": "x",
         "y": [
          8,
          8,
          3,
          1,
          1,
          6,
          5,
          10,
          5,
          10,
          6,
          2,
          4,
          9,
          3,
          5,
          9,
          3,
          4,
          4,
          4,
          3,
          9,
          10,
          8,
          1,
          7,
          2,
          6,
          8,
          2,
          3,
          4,
          4,
          6,
          3,
          10,
          8,
          7,
          4,
          1,
          2,
          6,
          1,
          2,
          3,
          8,
          5,
          1,
          4,
          9,
          1,
          2,
          3,
          5,
          2,
          10,
          10,
          7,
          7,
          7,
          5,
          10,
          4,
          3,
          4,
          5,
          1,
          7,
          7,
          1,
          10,
          7,
          2,
          9,
          9,
          5,
          4,
          7,
          2,
          4,
          1,
          2,
          8,
          8,
          3,
          4,
          10,
          1,
          9,
          7,
          8,
          2,
          4,
          7,
          10,
          9,
          4,
          6,
          1,
          8,
          4,
          4,
          5,
          8,
          4,
          2,
          9,
          1,
          2,
          10,
          8,
          2,
          3,
          1,
          9,
          9,
          1,
          5,
          1,
          10,
          7,
          9,
          10,
          9,
          5,
          2,
          5,
          3,
          4,
          5,
          6,
          5,
          6,
          9,
          5,
          2,
          3,
          8,
          7,
          7,
          4,
          4,
          6,
          2,
          1,
          7,
          4,
          6,
          1,
          8,
          2,
          3,
          10,
          8,
          1,
          10,
          10,
          10,
          10,
          8,
          2,
          5,
          9,
          5,
          2,
          9,
          2,
          8,
          3,
          5,
          3,
          6,
          7,
          10,
          10,
          5,
          2,
          6,
          7,
          8,
          7,
          9,
          6,
          9,
          1,
          9,
          5,
          7,
          6,
          10,
          7,
          1,
          5,
          9,
          8,
          10,
          6,
          8,
          6,
          5,
          6,
          5,
          7,
          8,
          10,
          9,
          6,
          10,
          6,
          3,
          1,
          7,
          7,
          9,
          1,
          7,
          10,
          1,
          3,
          2,
          1,
          3,
          6,
          9,
          10,
          1,
          1,
          7,
          2,
          3,
          3,
          1,
          5,
          5,
          3,
          4,
          4,
          4,
          5,
          7,
          9,
          10,
          6,
          3,
          3,
          2,
          9,
          9,
          1,
          3,
          4,
          3,
          3,
          7,
          5,
          6,
          3,
          9,
          4,
          5,
          10,
          3,
          10,
          2,
          6,
          4,
          10,
          10,
          4,
          1,
          5,
          3,
          3,
          10,
          7,
          6,
          7,
          6,
          9,
          6,
          6,
          10,
          7,
          7,
          8,
          3,
          5,
          4,
          5,
          4,
          5,
          5,
          1,
          10,
          1,
          10,
          5,
          4,
          5,
          5,
          9,
          4,
          6,
          8,
          7,
          7,
          5,
          1,
          4,
          9,
          10,
          3,
          4,
          1,
          5,
          8,
          6,
          9,
          5,
          6,
          6,
          2,
          2,
          7,
          5,
          8,
          1,
          10,
          4,
          5,
          1,
          5,
          3,
          5,
          10,
          4,
          5,
          7,
          7
         ],
         "yaxis": "y"
        }
       ],
       "layout": {
        "barmode": "group",
        "legend": {
         "title": {
          "text": "City"
         },
         "tracegroupgap": 0
        },
        "margin": {
         "t": 60
        },
        "template": {
         "data": {
          "bar": [
           {
            "error_x": {
             "color": "#2a3f5f"
            },
            "error_y": {
             "color": "#2a3f5f"
            },
            "marker": {
             "line": {
              "color": "#E5ECF6",
              "width": 0.5
             },
             "pattern": {
              "fillmode": "overlay",
              "size": 10,
              "solidity": 0.2
             }
            },
            "type": "bar"
           }
          ],
          "barpolar": [
           {
            "marker": {
             "line": {
              "color": "#E5ECF6",
              "width": 0.5
             },
             "pattern": {
              "fillmode": "overlay",
              "size": 10,
              "solidity": 0.2
             }
            },
            "type": "barpolar"
           }
          ],
          "carpet": [
           {
            "aaxis": {
             "endlinecolor": "#2a3f5f",
             "gridcolor": "white",
             "linecolor": "white",
             "minorgridcolor": "white",
             "startlinecolor": "#2a3f5f"
            },
            "baxis": {
             "endlinecolor": "#2a3f5f",
             "gridcolor": "white",
             "linecolor": "white",
             "minorgridcolor": "white",
             "startlinecolor": "#2a3f5f"
            },
            "type": "carpet"
           }
          ],
          "choropleth": [
           {
            "colorbar": {
             "outlinewidth": 0,
             "ticks": ""
            },
            "type": "choropleth"
           }
          ],
          "contour": [
           {
            "colorbar": {
             "outlinewidth": 0,
             "ticks": ""
            },
            "colorscale": [
             [
              0,
              "#0d0887"
             ],
             [
              0.1111111111111111,
              "#46039f"
             ],
             [
              0.2222222222222222,
              "#7201a8"
             ],
             [
              0.3333333333333333,
              "#9c179e"
             ],
             [
              0.4444444444444444,
              "#bd3786"
             ],
             [
              0.5555555555555556,
              "#d8576b"
             ],
             [
              0.6666666666666666,
              "#ed7953"
             ],
             [
              0.7777777777777778,
              "#fb9f3a"
             ],
             [
              0.8888888888888888,
              "#fdca26"
             ],
             [
              1,
              "#f0f921"
             ]
            ],
            "type": "contour"
           }
          ],
          "contourcarpet": [
           {
            "colorbar": {
             "outlinewidth": 0,
             "ticks": ""
            },
            "type": "contourcarpet"
           }
          ],
          "heatmap": [
           {
            "colorbar": {
             "outlinewidth": 0,
             "ticks": ""
            },
            "colorscale": [
             [
              0,
              "#0d0887"
             ],
             [
              0.1111111111111111,
              "#46039f"
             ],
             [
              0.2222222222222222,
              "#7201a8"
             ],
             [
              0.3333333333333333,
              "#9c179e"
             ],
             [
              0.4444444444444444,
              "#bd3786"
             ],
             [
              0.5555555555555556,
              "#d8576b"
             ],
             [
              0.6666666666666666,
              "#ed7953"
             ],
             [
              0.7777777777777778,
              "#fb9f3a"
             ],
             [
              0.8888888888888888,
              "#fdca26"
             ],
             [
              1,
              "#f0f921"
             ]
            ],
            "type": "heatmap"
           }
          ],
          "heatmapgl": [
           {
            "colorbar": {
             "outlinewidth": 0,
             "ticks": ""
            },
            "colorscale": [
             [
              0,
              "#0d0887"
             ],
             [
              0.1111111111111111,
              "#46039f"
             ],
             [
              0.2222222222222222,
              "#7201a8"
             ],
             [
              0.3333333333333333,
              "#9c179e"
             ],
             [
              0.4444444444444444,
              "#bd3786"
             ],
             [
              0.5555555555555556,
              "#d8576b"
             ],
             [
              0.6666666666666666,
              "#ed7953"
             ],
             [
              0.7777777777777778,
              "#fb9f3a"
             ],
             [
              0.8888888888888888,
              "#fdca26"
             ],
             [
              1,
              "#f0f921"
             ]
            ],
            "type": "heatmapgl"
           }
          ],
          "histogram": [
           {
            "marker": {
             "pattern": {
              "fillmode": "overlay",
              "size": 10,
              "solidity": 0.2
             }
            },
            "type": "histogram"
           }
          ],
          "histogram2d": [
           {
            "colorbar": {
             "outlinewidth": 0,
             "ticks": ""
            },
            "colorscale": [
             [
              0,
              "#0d0887"
             ],
             [
              0.1111111111111111,
              "#46039f"
             ],
             [
              0.2222222222222222,
              "#7201a8"
             ],
             [
              0.3333333333333333,
              "#9c179e"
             ],
             [
              0.4444444444444444,
              "#bd3786"
             ],
             [
              0.5555555555555556,
              "#d8576b"
             ],
             [
              0.6666666666666666,
              "#ed7953"
             ],
             [
              0.7777777777777778,
              "#fb9f3a"
             ],
             [
              0.8888888888888888,
              "#fdca26"
             ],
             [
              1,
              "#f0f921"
             ]
            ],
            "type": "histogram2d"
           }
          ],
          "histogram2dcontour": [
           {
            "colorbar": {
             "outlinewidth": 0,
             "ticks": ""
            },
            "colorscale": [
             [
              0,
              "#0d0887"
             ],
             [
              0.1111111111111111,
              "#46039f"
             ],
             [
              0.2222222222222222,
              "#7201a8"
             ],
             [
              0.3333333333333333,
              "#9c179e"
             ],
             [
              0.4444444444444444,
              "#bd3786"
             ],
             [
              0.5555555555555556,
              "#d8576b"
             ],
             [
              0.6666666666666666,
              "#ed7953"
             ],
             [
              0.7777777777777778,
              "#fb9f3a"
             ],
             [
              0.8888888888888888,
              "#fdca26"
             ],
             [
              1,
              "#f0f921"
             ]
            ],
            "type": "histogram2dcontour"
           }
          ],
          "mesh3d": [
           {
            "colorbar": {
             "outlinewidth": 0,
             "ticks": ""
            },
            "type": "mesh3d"
           }
          ],
          "parcoords": [
           {
            "line": {
             "colorbar": {
              "outlinewidth": 0,
              "ticks": ""
             }
            },
            "type": "parcoords"
           }
          ],
          "pie": [
           {
            "automargin": true,
            "type": "pie"
           }
          ],
          "scatter": [
           {
            "fillpattern": {
             "fillmode": "overlay",
             "size": 10,
             "solidity": 0.2
            },
            "type": "scatter"
           }
          ],
          "scatter3d": [
           {
            "line": {
             "colorbar": {
              "outlinewidth": 0,
              "ticks": ""
             }
            },
            "marker": {
             "colorbar": {
              "outlinewidth": 0,
              "ticks": ""
             }
            },
            "type": "scatter3d"
           }
          ],
          "scattercarpet": [
           {
            "marker": {
             "colorbar": {
              "outlinewidth": 0,
              "ticks": ""
             }
            },
            "type": "scattercarpet"
           }
          ],
          "scattergeo": [
           {
            "marker": {
             "colorbar": {
              "outlinewidth": 0,
              "ticks": ""
             }
            },
            "type": "scattergeo"
           }
          ],
          "scattergl": [
           {
            "marker": {
             "colorbar": {
              "outlinewidth": 0,
              "ticks": ""
             }
            },
            "type": "scattergl"
           }
          ],
          "scattermapbox": [
           {
            "marker": {
             "colorbar": {
              "outlinewidth": 0,
              "ticks": ""
             }
            },
            "type": "scattermapbox"
           }
          ],
          "scatterpolar": [
           {
            "marker": {
             "colorbar": {
              "outlinewidth": 0,
              "ticks": ""
             }
            },
            "type": "scatterpolar"
           }
          ],
          "scatterpolargl": [
           {
            "marker": {
             "colorbar": {
              "outlinewidth": 0,
              "ticks": ""
             }
            },
            "type": "scatterpolargl"
           }
          ],
          "scatterternary": [
           {
            "marker": {
             "colorbar": {
              "outlinewidth": 0,
              "ticks": ""
             }
            },
            "type": "scatterternary"
           }
          ],
          "surface": [
           {
            "colorbar": {
             "outlinewidth": 0,
             "ticks": ""
            },
            "colorscale": [
             [
              0,
              "#0d0887"
             ],
             [
              0.1111111111111111,
              "#46039f"
             ],
             [
              0.2222222222222222,
              "#7201a8"
             ],
             [
              0.3333333333333333,
              "#9c179e"
             ],
             [
              0.4444444444444444,
              "#bd3786"
             ],
             [
              0.5555555555555556,
              "#d8576b"
             ],
             [
              0.6666666666666666,
              "#ed7953"
             ],
             [
              0.7777777777777778,
              "#fb9f3a"
             ],
             [
              0.8888888888888888,
              "#fdca26"
             ],
             [
              1,
              "#f0f921"
             ]
            ],
            "type": "surface"
           }
          ],
          "table": [
           {
            "cells": {
             "fill": {
              "color": "#EBF0F8"
             },
             "line": {
              "color": "white"
             }
            },
            "header": {
             "fill": {
              "color": "#C8D4E3"
             },
             "line": {
              "color": "white"
             }
            },
            "type": "table"
           }
          ]
         },
         "layout": {
          "annotationdefaults": {
           "arrowcolor": "#2a3f5f",
           "arrowhead": 0,
           "arrowwidth": 1
          },
          "autotypenumbers": "strict",
          "coloraxis": {
           "colorbar": {
            "outlinewidth": 0,
            "ticks": ""
           }
          },
          "colorscale": {
           "diverging": [
            [
             0,
             "#8e0152"
            ],
            [
             0.1,
             "#c51b7d"
            ],
            [
             0.2,
             "#de77ae"
            ],
            [
             0.3,
             "#f1b6da"
            ],
            [
             0.4,
             "#fde0ef"
            ],
            [
             0.5,
             "#f7f7f7"
            ],
            [
             0.6,
             "#e6f5d0"
            ],
            [
             0.7,
             "#b8e186"
            ],
            [
             0.8,
             "#7fbc41"
            ],
            [
             0.9,
             "#4d9221"
            ],
            [
             1,
             "#276419"
            ]
           ],
           "sequential": [
            [
             0,
             "#0d0887"
            ],
            [
             0.1111111111111111,
             "#46039f"
            ],
            [
             0.2222222222222222,
             "#7201a8"
            ],
            [
             0.3333333333333333,
             "#9c179e"
            ],
            [
             0.4444444444444444,
             "#bd3786"
            ],
            [
             0.5555555555555556,
             "#d8576b"
            ],
            [
             0.6666666666666666,
             "#ed7953"
            ],
            [
             0.7777777777777778,
             "#fb9f3a"
            ],
            [
             0.8888888888888888,
             "#fdca26"
            ],
            [
             1,
             "#f0f921"
            ]
           ],
           "sequentialminus": [
            [
             0,
             "#0d0887"
            ],
            [
             0.1111111111111111,
             "#46039f"
            ],
            [
             0.2222222222222222,
             "#7201a8"
            ],
            [
             0.3333333333333333,
             "#9c179e"
            ],
            [
             0.4444444444444444,
             "#bd3786"
            ],
            [
             0.5555555555555556,
             "#d8576b"
            ],
            [
             0.6666666666666666,
             "#ed7953"
            ],
            [
             0.7777777777777778,
             "#fb9f3a"
            ],
            [
             0.8888888888888888,
             "#fdca26"
            ],
            [
             1,
             "#f0f921"
            ]
           ]
          },
          "colorway": [
           "#636efa",
           "#EF553B",
           "#00cc96",
           "#ab63fa",
           "#FFA15A",
           "#19d3f3",
           "#FF6692",
           "#B6E880",
           "#FF97FF",
           "#FECB52"
          ],
          "font": {
           "color": "#2a3f5f"
          },
          "geo": {
           "bgcolor": "white",
           "lakecolor": "white",
           "landcolor": "#E5ECF6",
           "showlakes": true,
           "showland": true,
           "subunitcolor": "white"
          },
          "hoverlabel": {
           "align": "left"
          },
          "hovermode": "closest",
          "mapbox": {
           "style": "light"
          },
          "paper_bgcolor": "white",
          "plot_bgcolor": "#E5ECF6",
          "polar": {
           "angularaxis": {
            "gridcolor": "white",
            "linecolor": "white",
            "ticks": ""
           },
           "bgcolor": "#E5ECF6",
           "radialaxis": {
            "gridcolor": "white",
            "linecolor": "white",
            "ticks": ""
           }
          },
          "scene": {
           "xaxis": {
            "backgroundcolor": "#E5ECF6",
            "gridcolor": "white",
            "gridwidth": 2,
            "linecolor": "white",
            "showbackground": true,
            "ticks": "",
            "zerolinecolor": "white"
           },
           "yaxis": {
            "backgroundcolor": "#E5ECF6",
            "gridcolor": "white",
            "gridwidth": 2,
            "linecolor": "white",
            "showbackground": true,
            "ticks": "",
            "zerolinecolor": "white"
           },
           "zaxis": {
            "backgroundcolor": "#E5ECF6",
            "gridcolor": "white",
            "gridwidth": 2,
            "linecolor": "white",
            "showbackground": true,
            "ticks": "",
            "zerolinecolor": "white"
           }
          },
          "shapedefaults": {
           "line": {
            "color": "#2a3f5f"
           }
          },
          "ternary": {
           "aaxis": {
            "gridcolor": "white",
            "linecolor": "white",
            "ticks": ""
           },
           "baxis": {
            "gridcolor": "white",
            "linecolor": "white",
            "ticks": ""
           },
           "bgcolor": "#E5ECF6",
           "caxis": {
            "gridcolor": "white",
            "linecolor": "white",
            "ticks": ""
           }
          },
          "title": {
           "x": 0.05
          },
          "xaxis": {
           "automargin": true,
           "gridcolor": "white",
           "linecolor": "white",
           "ticks": "",
           "title": {
            "standoff": 15
           },
           "zerolinecolor": "white",
           "zerolinewidth": 2
          },
          "yaxis": {
           "automargin": true,
           "gridcolor": "white",
           "linecolor": "white",
           "ticks": "",
           "title": {
            "standoff": 15
           },
           "zerolinecolor": "white",
           "zerolinewidth": 2
          }
         }
        },
        "xaxis": {
         "anchor": "y",
         "domain": [
          0,
          1
         ],
         "title": {
          "text": "time"
         }
        },
        "yaxis": {
         "anchor": "x",
         "domain": [
          0,
          1
         ],
         "title": {
          "text": "sum of quantity"
         }
        }
       }
      }
     },
     "metadata": {},
     "output_type": "display_data"
    }
   ],
   "source": [
    "#Kota paling produktif dalam penjualan\n",
    "\n",
    "#Variabel waktu\n",
    "A_time= (df[df['City']=='Naypyitaw'][['time','quantity']].groupby('time').sum())\n",
    "B_time= (df[df['City']=='Yangon'][['time','quantity']].groupby('time').sum())\n",
    "C_time= (df[df['City']=='Mandalay'][['time','quantity']].groupby('time').sum())\n",
    "#Sampling per jumlah waktu kota\n",
    "sample_A = A_time.reset_index() \n",
    "sample_B = B_time.reset_index() \n",
    "sample_C = C_time.reset_index() \n",
    "#Kuantitas penjualan setiap kota\n",
    "maxA=sample_A[sample_A['quantity']==sample_A['quantity'].max()]\n",
    "maxB=sample_B[sample_B['quantity'] == sample_B['quantity'].max()]\n",
    "maxC=sample_C[sample_C['quantity'] == sample_C['quantity'].max()]\n",
    "#Histogram\n",
    "px.histogram(df.sort_values(\"City\"), x='time', y='quantity' ,color='City', barmode='group')\n"
   ]
  },
  {
   "cell_type": "code",
   "execution_count": 63,
   "metadata": {},
   "outputs": [
    {
     "name": "stdout",
     "output_type": "stream",
     "text": [
      "Productivity hour in City Naypyitaw is :  19 serving 222 of quantity\n",
      "Productivity hour in City Yangon is :  15 serving 193 of quantity\n",
      "Productivity hour in City Mandalay is :  19 serving 255 of quantity\n"
     ]
    }
   ],
   "source": [
    "print(f'Productivity hour in City Naypyitaw is : ', maxA.values[0,0], f'serving {maxA.values[0,1]} of quantity')\n",
    "print(f'Productivity hour in City Yangon is : ',maxB.values[0,0], f'serving {maxB.values[0,1]} of quantity')\n",
    "print(f'Productivity hour in City Mandalay is : ',maxC.values[0,0], f'serving {maxC.values[0,1]} of quantity')\n"
   ]
  },
  {
   "cell_type": "markdown",
   "metadata": {},
   "source": [
    "Dari hasil diatas kita dapat mengetahui kesibukan dalam penjualan setiap cabang kota, dinyatakan bahwa kota Naypyitaw merupakan kota dalam penjualan tersibuk dengan jumlah 19 pelayanan dalam total 222 item."
   ]
  },
  {
   "cell_type": "markdown",
   "metadata": {},
   "source": [
    "## Hypothesis Testing\n",
    "\n",
    "Dalam pengujian hipotesis ini kita akan membuktikan kota mana yang memiliki keuntungan tertinggi berdasarkan  gross_income dan quantity penjualan dari keseluruhan product yang terjual."
   ]
  },
  {
   "cell_type": "code",
   "execution_count": 64,
   "metadata": {},
   "outputs": [
    {
     "name": "stdout",
     "output_type": "stream",
     "text": [
      "Rata-rata keuntungan pada kota Naypyitaw :  5.599388379204893\n",
      "Rata-rata keuntungan pada kota Yangon :  5.48377581120944\n",
      "Rata-rata keuntungan pada kota Mandalay :  5.498489425981873\n"
     ]
    }
   ],
   "source": [
    "#Menampilkan nilai mean berdasarkan gross_income setiap kota\n",
    "Naypyitaw_profit= (df[df['City']=='Naypyitaw'][['gross_income','quantity']].groupby('gross_income').sum())   \n",
    "Yangon_profit= (df[df['City']=='Yangon'][['gross_income','quantity']].groupby('gross_income').sum())\n",
    "Mandalay_profit= (df[df['City']=='Mandalay'][['gross_income','quantity']].groupby('gross_income').sum())\n",
    "\n",
    "print('Rata-rata keuntungan pada kota Naypyitaw : ', Naypyitaw_profit.quantity.mean())\n",
    "print('Rata-rata keuntungan pada kota Yangon : ',Yangon_profit.quantity.mean())\n",
    "print('Rata-rata keuntungan pada kota Mandalay : ',Mandalay_profit.quantity.mean())"
   ]
  },
  {
   "cell_type": "markdown",
   "metadata": {},
   "source": [
    "Pada akhirnya, Kota Yangon & kota Mandalay memiliki nilai yang hampir sama, selanjutnya akan melakukan Hypothesis notation.\n",
    "\n",
    "**Hypothesis Notation**\n",
    "\n",
    "- Null Hypothesis : Mean value of Yangon City is relatively the same as Mean value of Mandalay City\n",
    "- Alt. Hypothesis : Mean value of Yangon City is significantly different with Mean value of Mandalay City\n"
   ]
  },
  {
   "cell_type": "markdown",
   "metadata": {},
   "source": [
    "**Mathematical Notation**\n",
    "- H0 : μ_Yangon = μ_Mandalay\n",
    "- H1 : μ_Yangon != μ_Mandalay"
   ]
  },
  {
   "cell_type": "code",
   "execution_count": 65,
   "metadata": {},
   "outputs": [
    {
     "name": "stdout",
     "output_type": "stream",
     "text": [
      "P-value: [0.94759176]\n",
      "T-stat: [-0.065756]\n"
     ]
    }
   ],
   "source": [
    "#T-Test 2 sample 2 tailed\n",
    "t_stat, p_val = stats.ttest_ind(Yangon_profit,Mandalay_profit)\n",
    "print('P-value:',p_val)\n",
    "print('T-stat:', t_stat)"
   ]
  },
  {
   "cell_type": "markdown",
   "metadata": {},
   "source": [
    "Dengan penggunaan Confidence Interval (0.05), nilai P lebih besar daripada critical value, dapat diasumsikan bahwa kita tidak memiliki bukti untuk menolak null hypothesis (H0) dengan menggunakan metode T-Test 2 sample 2 tailed."
   ]
  },
  {
   "cell_type": "code",
   "execution_count": 66,
   "metadata": {},
   "outputs": [
    {
     "name": "stderr",
     "output_type": "stream",
     "text": [
      "c:\\Users\\TheSevenS\\anaconda3\\lib\\site-packages\\seaborn\\distributions.py:2619: FutureWarning:\n",
      "\n",
      "`distplot` is a deprecated function and will be removed in a future version. Please adapt your code to use either `displot` (a figure-level function with similar flexibility) or `histplot` (an axes-level function for histograms).\n",
      "\n",
      "c:\\Users\\TheSevenS\\anaconda3\\lib\\site-packages\\seaborn\\distributions.py:2619: FutureWarning:\n",
      "\n",
      "`distplot` is a deprecated function and will be removed in a future version. Please adapt your code to use either `displot` (a figure-level function with similar flexibility) or `histplot` (an axes-level function for histograms).\n",
      "\n"
     ]
    },
    {
     "data": {
      "image/png": "[encoded data removed]",
      "text/plain": [
       "<Figure size 1152x360 with 1 Axes>"
      ]
     },
     "metadata": {},
     "output_type": "display_data"
    }
   ],
   "source": [
    "#Simulation\n",
    "Yangon_sales = np.random.normal(Yangon_profit.quantity.mean(),Yangon_profit.quantity.std(),80)\n",
    "Mandalay_sales = np.random.normal(Mandalay_profit.quantity.mean(),Mandalay_profit.quantity.std(),80)\n",
    "\n",
    "#Confidence Interval\n",
    "ci = stats.norm.interval(0.95, Yangon_profit.quantity.mean(), Yangon_profit.quantity.std())\n",
    "#Plotting\n",
    "plt.figure(figsize=(16,5))\n",
    "sns.distplot(Yangon_sales, label='Average Sales pada kota Yangon',color='blue')\n",
    "sns.distplot(Mandalay_sales, label='Average Sales pada kota Mandalay',color='red')\n",
    "#Mean\n",
    "plt.axvline(Yangon_profit.quantity.mean(), color='blue', linewidth=2, label='Yangon mean')\n",
    "plt.axvline(Mandalay_profit.quantity.mean(), color='red',  linewidth=2, label='Mandalay mean')\n",
    "#Line\n",
    "plt.axvline(ci[1], color='green', linestyle='dashed', linewidth=2, label='confidence threshold of 95%')\n",
    "plt.axvline(ci[0], color='green', linestyle='dashed', linewidth=2)\n",
    "\n",
    "plt.axvline(Yangon_sales.mean()+t_stat[0]*Yangon_sales.std(), color='black', linestyle='dashed', linewidth=2, label = 'Alternative Hypothesis')\n",
    "plt.axvline(Mandalay_sales.mean()-t_stat[0]*Mandalay_sales.std(), color='black', linestyle='dashed', linewidth=2)\n",
    "\n",
    "plt.legend()\n",
    "plt.show()"
   ]
  },
  {
   "cell_type": "markdown",
   "metadata": {},
   "source": [
    "Alternative Hypothesis (H1) dengan garis hitam yang berada di dalam Confidence Interval mengartikan bahwa Hypothesis gagal untuk menolak Null Hypothesis (H0), dapat dikatakan bahwa kota Yangon dan kota Mandalay memiliki nilai penjualan yang hampir sama pada setiap jumlah penjualan product, walaupun dapat dilihat bahwa kota Yangon lebih memiliki sedikit rata-rata penjualan tapi tidak berbeda secara signifikan."
   ]
  },
  {
   "cell_type": "markdown",
   "metadata": {},
   "source": [
    "## Conclusions & Analysist"
   ]
  },
  {
   "cell_type": "markdown",
   "metadata": {},
   "source": [
    "**Conclusions**\n",
    "\n",
    "1. Semua penjualan dari 3 kota memiliki waktu tersibuk pada pukul 13:40 dengan rata-rata penjualan 22 item.\n",
    "2. Kota Yangon merupakan kota yang tersibuk dalam penjualan diantara 2 kota lainnya\n",
    "3. Pembayaran paling favorit dengan tingkat kepuasan tertinggi untuk konsumen laki-laki adalah Ewallet, sedangkan untuk wanita Cash Payment\n",
    "4. Produk paling banyak dibeli di kota Yangon adalah Home & Lifestyle serta Electronic Accessories, sedangkan untuk kota Mandalay produk penjualan tertinggi Sports & Travel dengan Health & Beauty.\n",
    "5. Penjualan tertinggi dari keseluruhan yaitu berada pada kota Naypyitaw dan produk dengan gross income tertinggi pada Food & Beverages.\n",
    "\n"
   ]
  },
  {
   "cell_type": "markdown",
   "metadata": {},
   "source": [
    "## Analysist\n",
    "\n",
    "Untuk pengembangan sales, kota Naypyitaw memiliki pendapatan tertinggi dikarenakan produk yang memiliki gross income tertinggi adalah Food & Beverages yang penjualannya berada di kota Naypyitaw, dengan kata lain kota lainnya seperti Yangon & Mandalay juga memiliki product dengan penjualannya tertinggi masing-masing, sehingga pemaksimalan quantity product dari setiap kota harus dimaksimalkan. Dari hal ini kita dapat berupaya memaksimalkan penjualan dalam promosi jenis product lainnya yang memiliki harga tinggi untuk mendapatkan keuntungan lebih besar.\n",
    "Edukasi sistem pembayaran juga harus dijalankan agar lebih mempermudah pelayanan saat pembayaran konsumen."
   ]
  },
  {
   "cell_type": "markdown",
   "metadata": {},
   "source": [
    "**Heroku Link**\n",
    "\n",
    "link = ('https://stats-ml1.herokuapp.com/')"
   ]
  }
 ],
 "metadata": {
  "interpreter": {
   "hash": "4ba04a4154796dc9f1fb51be3a9482ca72d81f970391e8ed4f56fce6fd21f80b"
  },
  "kernelspec": {
   "display_name": "Python 3.9.7 ('base')",
   "language": "python",
   "name": "python3"
  },
  "language_info": {
   "codemirror_mode": {
    "name": "ipython",
    "version": 3
   },
   "file_extension": ".py",
   "mimetype": "text/x-python",
   "name": "python",
   "nbconvert_exporter": "python",
   "pygments_lexer": "ipython3",
   "version": "3.9.7"
  },
  "orig_nbformat": 4
 },
 "nbformat": 4,
 "nbformat_minor": 2
}
